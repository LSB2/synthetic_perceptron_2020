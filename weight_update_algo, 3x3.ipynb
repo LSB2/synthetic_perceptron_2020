{
 "cells": [
  {
   "cell_type": "code",
   "execution_count": 1,
   "metadata": {},
   "outputs": [],
   "source": [
    "# this file is to update weights of 3x3 patterns\n",
    "# chemical naming: AHL is the same as OC6, CHL is the same as OHC14\n",
    "# more comments added on 06-01-2022"
   ]
  },
  {
   "cell_type": "code",
   "execution_count": 1,
   "metadata": {},
   "outputs": [],
   "source": [
    "from numpy.random import RandomState\n",
    "import numpy as np\n",
    "np.set_printoptions(precision=2,suppress=True)\n",
    "\n",
    "import matplotlib.pyplot as plt\n",
    "import scipy.optimize as opt\n",
    "from math import *\n",
    "\n",
    "from scipy.optimize import basinhopping,minimize,differential_evolution"
   ]
  },
  {
   "cell_type": "code",
   "execution_count": 2,
   "metadata": {},
   "outputs": [],
   "source": [
    "# basis functions, phi_pos, phi_neg, as explained in Supp page 6, eq 2 and 3\n",
    "# these transfer functions are ym*basis\n",
    "def transf_pos(x,K=2.0,y0=0.001,ym=1.5,n=2):\n",
    "    result=ym*((x/K)**n)/(1+(x/K)**n)+ym*y0\n",
    "    return result\n",
    "\n",
    "def transf_neg(x,K=2.0,y0=0.001,ym=1.5,n=2):\n",
    "    result=ym/(1+(x/K)**n)+y0*ym\n",
    "    return result\n",
    "\n",
    "#------------\n",
    "# added during revision\n",
    "\n",
    "# to discretize data according to available levels, allowing to udpate weights in a discrete manner\n",
    "def quant(data,levels):\n",
    "    results=[]\n",
    "    for i in range(0,len(data)):\n",
    "        ind=np.argmin(abs(data[i]-np.array(levels)))\n",
    "        results.append(levels[ind])\n",
    "    return results\n",
    "\n",
    "\n",
    "# discrete weight update for a given set of weights w, the sign of errors\n",
    "# used in function train_step1_dt()\n",
    "def wt_update(w,h,err_sign,levels):\n",
    "    # h is a hidden variable\n",
    "    w_=w.copy()\n",
    "    for i in range(0,len(w)):\n",
    "        indx_=levels.index(w[i])\n",
    "        \n",
    "        if err_sign[i]>0 and indx_<len(levels)-1:\n",
    "            if h[i]>levels[indx_+1]:\n",
    "                w_[i]=levels[indx_+1]\n",
    "                \n",
    "        if err_sign[i]<0 and indx_>0:\n",
    "            if h[i]<levels[indx_-1]:\n",
    "                w_[i]=levels[indx_-1]       \n",
    "    return w_"
   ]
  },
  {
   "cell_type": "code",
   "execution_count": 3,
   "metadata": {},
   "outputs": [],
   "source": [
    "# define 3x3 patterns \n",
    "zv=[1,1,0,0,1,0,0,1,1]\n",
    "vv=[1,0,1,1,0,1,0,1,0]\n",
    "nv=[0,1,0,1,0,1,1,0,1]\n",
    "\n",
    "# adding noisy bits to these patterns by flipping a particular bit\n",
    "def noisy(vector):\n",
    "    result=[]\n",
    "    for i in range(0,len(vector)):\n",
    "        v=vector.copy()\n",
    "        v[i]=np.logical_not(vector[i]).astype(int)\n",
    "        #print(i,vector[i],v[i])\n",
    "        result.append(v)\n",
    "    return result\n",
    "\n",
    "zpatterns=([zv]+noisy(zv))\n",
    "vpatterns=([vv]+noisy(vv))\n",
    "npatterns=([nv]+noisy(nv))\n",
    "\n",
    "start=0\n",
    "end=10\n",
    "patterns=zpatterns[start:end]+vpatterns[start:end]+npatterns[start:end]\n",
    "patterns_complete=zpatterns+vpatterns+npatterns\n",
    "\n",
    "lenth=end-start"
   ]
  },
  {
   "cell_type": "code",
   "execution_count": 4,
   "metadata": {},
   "outputs": [],
   "source": [
    "# using 3x3 patterns as an example, size can be nxn\n",
    "size=3*3\n",
    "\n",
    "# the lower boundary of target for decision making\n",
    "# arbitrary values are chosen; these values should be consistent with the transfer function of receiver promoter\n",
    "target_L=0.0\n",
    "target_H=1.2\n",
    "patterns=patterns\n",
    "\n",
    "lenth=int(len(patterns)/3)\n",
    "\n",
    "# coding target vectors for \"z\", \"v\" and \"n\" patterns\n",
    "# z patterns correspond to target_0, v patterns for target_1, and n patterns for target_2\n",
    "target_0=np.array([target_H]*lenth+[target_L]*lenth+[target_L]*lenth)\n",
    "target_1=np.array([target_L]*lenth+[target_H]*lenth+[target_L]*lenth)\n",
    "target_2=np.array([target_L]*lenth+[target_L]*lenth+[target_H]*lenth)\n",
    "\n",
    "# choosing target_0 as a demo to recognize \"z\" patterns\n",
    "# target can be set to target_1 when recognizing \"v\" patterns\n",
    "target=target_0\n",
    "#----\n",
    "\n",
    "# parameters are adopted according to experimentally measured Plux transfer functions\n",
    "AHL_unit_level=33# uM \n",
    "\n",
    "# initialze transfer function parameters\n",
    "transf_p=np.zeros(2)\n",
    "transf_n=np.zeros(2)\n",
    "\n",
    "# parameter numbers are approximated from values in Table 1\n",
    "# x=0 represents zero/low AHL input, x=AHL_unit_level for high AHL input\n",
    "transf_p[0]=transf_pos(x=0,K=50,y0=0.1,ym=1.0,n=0.45)\n",
    "transf_p[1]=transf_pos(x=AHL_unit_level,K=50,y0=0.1,ym=1.0,n=0.45)\n",
    "\n",
    "# transf_n paramters are from Table 1\n",
    "transf_n[0]=transf_neg(x=0,K=0.252,y0=0.341,ym=1,n=0.67)\n",
    "transf_n[1]=transf_neg(x=AHL_unit_level,K=0.252,y0=0.341,ym=1,n=0.67)\n",
    "\n",
    "phi_pos=np.array([transf_p]*size)\n",
    "phi_neg=np.array([transf_n]*size)"
   ]
  },
  {
   "cell_type": "code",
   "execution_count": 5,
   "metadata": {},
   "outputs": [],
   "source": [
    "# the following functions are used in the training algorithm as in train_step1() or train_step1_dt()\n",
    "def examine_output(w,P,phi_pos,phi_neg):\n",
    "    y_n=np.zeros(len(P))\n",
    "    w_ph_=np.zeros(len(P))\n",
    "\n",
    "    for n in range(0,len(P)):\n",
    "        pttn=np.array(P[n])\n",
    "        \n",
    "        phi_nw=get_phinw(w,pttn,phi_pos,phi_neg)\n",
    "                \n",
    "        w_ph_[n]=np.dot(w,phi_nw)/len(w)\n",
    "        y_n[n]=activate(w_ph_[n])\n",
    "        \n",
    "    return y_n,w_ph_\n",
    "\n",
    "def output_fcn(pttn,fcn):\n",
    "    \n",
    "    CHL_levels=np.zeros(len(pttn))\n",
    "    for i in range(0,len(pttn)):\n",
    "        CHL_levels[i]=fcn[i][pttn[i]]\n",
    "        \n",
    "    return CHL_levels\n",
    "\n",
    "def activate(x):\n",
    "    K,y0,ym_x,n= 1.10292919e+03,1.94584842e-02,2.15950963e+04,2.33038211e+00\n",
    "    result=transf_pos(x.sum(),K=K,y0=y0/1e4,ym=2.0,n=n).sum()\n",
    "    return result\n",
    "\n",
    "# see eq 4 in Supp page 7\n",
    "def get_phinw(w,pttn,phi_pos,phi_neg):\n",
    "    # conitnuous means wether negative weights are allowed to vary\n",
    "    phi_nw=(1.0+w/np.sqrt(w**2))/2*output_fcn(pttn,phi_pos)+\\\n",
    "            (w/np.sqrt(w**2)-1)/2*output_fcn(pttn,phi_neg)\n",
    "\n",
    "    return phi_nw"
   ]
  },
  {
   "cell_type": "code",
   "execution_count": 8,
   "metadata": {},
   "outputs": [],
   "source": [
    "# Algorithm adapted from from Prezioso et al. 2015 memristor paper\n",
    "# Different from the memristor paper in that weights in the memristor NN can take any real number\n",
    "\n",
    "# cont_ sets if negative weights are allowed to vary. By default cont_=False, only one possible negative weight. \n",
    "# Using all initial negative weights actually work better, \n",
    "    # otherwise can lead to spikes in weights and error values\n",
    "# if case cont_=True, initial all positive weights work best\n",
    "\n",
    "def train_step1(target,size,eta,phi_pos,phi_neg,pos=False,cont_=False):\n",
    "    rndstate=RandomState(2)\n",
    "    #eta is learning rate as in eq.8 in Supp page 7, explained on page 8\n",
    "    #phi_pos and phi_neg are positive and negative basis functions, respectively\n",
    "    \n",
    "    # setting initial weights; by default, weights are initialized to negative values\n",
    "    # initial values affect how the algorithm converges.\n",
    "    if cont_==True or pos==True:\n",
    "        h=rndstate.random_sample(size)\n",
    "    else:\n",
    "        h=rndstate.random_sample(size)*(-1)\n",
    "        \n",
    "    print('h: ',h)\n",
    "    r=size\n",
    "\n",
    "    # w_series for weight vector, y_series to store output during iterations, delta_ for errors \n",
    "    w_series=[]\n",
    "    y_series=[]\n",
    "    delta_series=[]\n",
    "\n",
    "    # iterate for 300 times; this is an arbitrary setting. \n",
    "    for it in range(0,300):\n",
    "        y_n=np.zeros(len(patterns))\n",
    "        g_n=np.zeros(len(patterns))\n",
    "        delta_err=np.zeros(size)\n",
    "        #phi_n=[]\n",
    "      \n",
    "        w=h.copy()\n",
    "    \n",
    "        # set the negative to one value -735. This is because only one negative weight circuit has been built\n",
    "        # 735 comes from Table 1, row S_plux_rep, column beta_m\n",
    "        if cont_==False:\n",
    "            w[w<0]=-735\n",
    "        \n",
    "        # if only positive weights are allowed, set the negative values arbitrarily to 0.1\n",
    "        if pos==True:\n",
    "            w[w<0]=0.1\n",
    "            \n",
    "        # for each pattern, calculating errors, eq 7 in Supp on page 7\n",
    "        for n in range(0,len(patterns)):\n",
    "            # consider pttn as indexes in vector x, 0 means x[0], 1 means x[1]\n",
    "            pttn=np.array(patterns[n])\n",
    "            \n",
    "            # eq4 in Supp on page 7\n",
    "            phi_nw=get_phinw(w,pttn,phi_pos,phi_neg)\n",
    "            # h is the hidden variable\n",
    "            g_n[n]=np.dot(w,phi_nw)/r\n",
    "            \n",
    "            # eq 6 in Supp\n",
    "            y_n[n]=activate(g_n[n])            \n",
    "            # right hand side of eq7 inside the summation \n",
    "            tmp=(y_n[n]-target[n])\n",
    "            tmp=min(target_H,tmp)\n",
    "            \n",
    "            delta_err+=tmp*phi_nw\n",
    "\n",
    "        w_series.append(w)\n",
    "        h=h-eta*delta_err \n",
    "        y_series.append(y_n)\n",
    "        delta_series.append(delta_err)\n",
    "        \n",
    "    return w,y_series,w_series,delta_series"
   ]
  },
  {
   "cell_type": "code",
   "execution_count": 11,
   "metadata": {},
   "outputs": [],
   "source": [
    "# step2\n",
    "# basinhopping method\n",
    "# discussed on page 8 Supp\n",
    "\n",
    "def step2(w0):\n",
    "    y=np.zeros(len(patterns))\n",
    "\n",
    "    for n in range(0,len(patterns)):\n",
    "        pttn=np.array(patterns[n])\n",
    "        phi_nw=get_phinw(w,pttn,phi_pos,phi_neg)\n",
    "        \n",
    "        w0[w0<0]=-735\n",
    "        y[n]=activate(np.dot(w0,phi_nw)/size)\n",
    "                \n",
    "    product=(2*y-target_H)*(2*target-target_H)\n",
    "    \n",
    "    return np.var(product)*10+(target_H**2-np.mean(product))"
   ]
  },
  {
   "cell_type": "code",
   "execution_count": 10,
   "metadata": {},
   "outputs": [
    {
     "name": "stdout",
     "output_type": "stream",
     "text": [
      "h:  [-0.44 -0.03 -0.55 -0.44 -0.42 -0.33 -0.2  -0.62 -0.3 ]\n",
      "h:  [-0.44 -0.03 -0.55 -0.44 -0.42 -0.33 -0.2  -0.62 -0.3 ]\n",
      "h:  [-0.44 -0.03 -0.55 -0.44 -0.42 -0.33 -0.2  -0.62 -0.3 ]\n"
     ]
    }
   ],
   "source": [
    "w0,y0_sc,w0_sc,d0_sc=train_step1(target_0,9,eta=10,phi_pos=phi_pos,phi_neg=phi_neg,cont_=False)\n",
    "w1,y1_sc,w1_sc,d1_sc=train_step1(target_1,9,eta=10,phi_pos=phi_pos,phi_neg=phi_neg,cont_=False)\n",
    "w2,y2_sc,w2_sc,d2_sc=train_step1(target_2,9,eta=10,phi_pos=phi_pos,phi_neg=phi_neg,cont_=False)\n"
   ]
  },
  {
   "cell_type": "code",
   "execution_count": 13,
   "metadata": {},
   "outputs": [
    {
     "name": "stdout",
     "output_type": "stream",
     "text": [
      "True\n",
      "step2 w0:  1813, 1813, -735, -735, 2872, -735, -735, 1813, 1813\n"
     ]
    }
   ],
   "source": [
    "# demo example of step2, w0;\n",
    "# output is the same as in Table S4; \n",
    "\n",
    "w=w0\n",
    "target=target_0\n",
    "minimizer_kwargs = {\"method\": \"Nelder-Mead\"}\n",
    "res0=basinhopping(step2,w,minimizer_kwargs=minimizer_kwargs,niter=20)\n",
    "\n",
    "print(res0.lowest_optimization_result.success)\n",
    "w0_txt=\", \".join(\"%.0f\" % f for f in res0.x)\n",
    "print('step2 w0: ',w0_txt)"
   ]
  },
  {
   "cell_type": "code",
   "execution_count": 15,
   "metadata": {},
   "outputs": [
    {
     "name": "stdout",
     "output_type": "stream",
     "text": [
      "True\n",
      "step2 w1:  1813, -735, 2872, 1813, -735, 1813, -735, 1813, -735\n"
     ]
    }
   ],
   "source": [
    "# demo example of step2, w1\n",
    "\n",
    "w=w1\n",
    "target=target_1\n",
    "minimizer_kwargs = {\"method\": \"Nelder-Mead\"}\n",
    "res1=basinhopping(step2,w,minimizer_kwargs=minimizer_kwargs,niter=20)\n",
    "\n",
    "print(res1.lowest_optimization_result.success)\n",
    "w1_txt=\", \".join(\"%.0f\" % f for f in res1.x)\n",
    "print('step2 w1: ',w1_txt)"
   ]
  },
  {
   "cell_type": "code",
   "execution_count": 16,
   "metadata": {},
   "outputs": [
    {
     "name": "stdout",
     "output_type": "stream",
     "text": [
      "True\n",
      "step2 w1:  -735, 1813, -735, 1813, -735, 1813, 2872, -735, 1813\n"
     ]
    }
   ],
   "source": [
    "# demo example of step2, w2\n",
    "\n",
    "w=w2\n",
    "target=target_2\n",
    "minimizer_kwargs = {\"method\": \"Nelder-Mead\"}\n",
    "res2=basinhopping(step2,w,minimizer_kwargs=minimizer_kwargs,niter=20)\n",
    "\n",
    "print(res2.lowest_optimization_result.success)\n",
    "w2_txt=\", \".join(\"%.0f\" % f for f in res2.x)\n",
    "print('step2 w1: ',w2_txt)"
   ]
  },
  {
   "cell_type": "code",
   "execution_count": 6,
   "metadata": {},
   "outputs": [],
   "source": [
    "# all initial states start with negative weights\n",
    "# most part the same as train_step1(), but with input wt_levels for discrete weights\n",
    "# using wt_update() function to update discrete weights\n",
    "\n",
    "def train_step1_dt(target,size,eta,phi_pos,phi_neg,wt_levels):\n",
    "\n",
    "    h=np.ones(size)*wt_levels[0]\n",
    "    w=h.copy()\n",
    "    #print('w: ',w)\n",
    "    r=size\n",
    "\n",
    "    w_series=[]\n",
    "    y_series=[]\n",
    "    delta_series=[]\n",
    "        \n",
    "    for it in range(0,300):\n",
    "        y_n=np.zeros(len(patterns))\n",
    "        g_n=np.zeros(len(patterns))\n",
    "        delta_err=np.zeros(size)\n",
    "        for n in range(0,len(patterns)):\n",
    "            pttn=np.array(patterns[n])       \n",
    "            phi_nw=get_phinw(w,pttn,phi_pos,phi_neg)\n",
    "\n",
    "            g_n[n]=np.dot(w,phi_nw)/r\n",
    "            y_n[n]=activate(g_n[n])            \n",
    "            tmp=(y_n[n]-target[n])\n",
    "            tmp=min(target_H,tmp)            \n",
    "            delta_err+=tmp*phi_nw\n",
    "            \n",
    "        y_series.append(y_n)\n",
    "        w_series.append(w)\n",
    "        delta_series.append(delta_err)\n",
    "        h=h-eta*delta_err\n",
    "        w=wt_update(w,h,-np.sign(delta_err),wt_levels)\n",
    "        \n",
    "    p_=(2*np.array(y_series)-target_H)*(2*target-target_H)\n",
    "    pm_=np.var(p_,axis=1)*10+(target_H**2-np.mean(p_,axis=1))\n",
    "    \n",
    "    w=w_series[np.argmin(pm_)]\n",
    "    y=y_series[np.argmin(pm_)]\n",
    "    \n",
    "    return w,y"
   ]
  },
  {
   "cell_type": "code",
   "execution_count": 7,
   "metadata": {},
   "outputs": [],
   "source": [
    "# demo of weight update using discrete weights\n",
    "# classification using two states\n",
    "# For Fig S5\n",
    "\n",
    "wt_levels=[-735.0,1906.0]\n",
    "w0,y0=train_step1_dt(target_0,9,eta=20,phi_pos=phi_pos,phi_neg=phi_neg,wt_levels=wt_levels)\n",
    "w1,y1=train_step1_dt(target_1,9,eta=20,phi_pos=phi_pos,phi_neg=phi_neg,wt_levels=wt_levels)\n",
    "w2,y2=train_step1_dt(target_2,9,eta=20,phi_pos=phi_pos,phi_neg=phi_neg,wt_levels=wt_levels)"
   ]
  },
  {
   "cell_type": "code",
   "execution_count": 8,
   "metadata": {},
   "outputs": [
    {
     "data": {
      "text/plain": [
       "(0.0, 1.2)"
      ]
     },
     "execution_count": 8,
     "metadata": {},
     "output_type": "execute_result"
    },
    {
     "data": {
      "image/png": "[encoded data removed]",
      "text/plain": [
       "<Figure size 324x288 with 1 Axes>"
      ]
     },
     "metadata": {
      "needs_background": "light"
     },
     "output_type": "display_data"
    }
   ],
   "source": [
    "# Fig S5 demo\n",
    "fig=plt.figure(figsize=(4.5,4))\n",
    "ax=fig.add_subplot(111)\n",
    "\n",
    "ax.plot(y0,c='royalblue',marker='.',lw=0.5,label='$\\\\vec{w}_0$')\n",
    "ax.plot(y1,c='mediumseagreen',marker='.',lw=0.5,label='$\\\\vec{w}_1$')\n",
    "ax.plot(y2,c='orange',marker='.',lw=0.5,label='$\\\\vec{w}_2$')\n",
    "\n",
    "ax.tick_params(axis='both',direction='in',labelsize=13,size=11)\n",
    "ax.set_yticks([0,0.2,0.5,0.8,1.0])\n",
    "ax.set_xlabel('3x3 patterns',fontsize=14)\n",
    "ax.legend(loc='upper left',ncol=3,fontsize=13)\n",
    "ax.set_xticks([0,9,19,29])\n",
    "\n",
    "plt.ylim([0,1.2])\n"
   ]
  },
  {
   "cell_type": "code",
   "execution_count": null,
   "metadata": {},
   "outputs": [],
   "source": []
  }
 ],
 "metadata": {
  "kernelspec": {
   "display_name": "Python 3 (ipykernel)",
   "language": "python",
   "name": "python3"
  },
  "language_info": {
   "codemirror_mode": {
    "name": "ipython",
    "version": 3
   },
   "file_extension": ".py",
   "mimetype": "text/x-python",
   "name": "python",
   "nbconvert_exporter": "python",
   "pygments_lexer": "ipython3",
   "version": "3.9.7"
  }
 },
 "nbformat": 4,
 "nbformat_minor": 4
}
