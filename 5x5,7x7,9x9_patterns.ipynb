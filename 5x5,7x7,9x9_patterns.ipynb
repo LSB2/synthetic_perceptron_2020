{
 "cells": [
  {
   "cell_type": "code",
   "execution_count": 1,
   "metadata": {},
   "outputs": [],
   "source": [
    "# 07-30 update tmp=min(y_n-target, target_H)\n",
    "from numpy.random import RandomState\n",
    "import numpy as np\n",
    "np.set_printoptions(precision=2,suppress=True)\n",
    "\n",
    "import matplotlib.pyplot as plt\n",
    "import seaborn as sns\n",
    "import pdb\n",
    "import scipy.optimize as opt\n",
    "from sklearn.linear_model import LogisticRegression,SGDClassifier\n",
    "from sklearn.svm import SVC\n",
    "from math import *\n",
    "\n",
    "from scipy.optimize import basinhopping,minimize,differential_evolution\n",
    "from scipy.stats import moment"
   ]
  },
  {
   "cell_type": "code",
   "execution_count": 2,
   "metadata": {},
   "outputs": [],
   "source": [
    "# basis functions, phi_pos, phi_neg\n",
    "def transf_pos(x,K=2.0,y0=0.001,ym=1.5,n=2):\n",
    "    result=ym*((x/K)**n)/(1+(x/K)**n)+ym*y0\n",
    "    return result\n",
    "\n",
    "def transf_neg(x,K=2.0,y0=0.001,ym=1.5,n=2):\n",
    "    result=ym/(1+(x/K)**n)+y0*ym\n",
    "    return result"
   ]
  },
  {
   "cell_type": "code",
   "execution_count": 3,
   "metadata": {},
   "outputs": [],
   "source": [
    "def noisy(vector):\n",
    "    result=[]\n",
    "    for i in range(0,len(vector)):\n",
    "        v=vector.copy()\n",
    "        v[i]=np.logical_not(vector[i]).astype(int)\n",
    "        #print(i,vector[i],v[i])\n",
    "        result.append(v)\n",
    "    return result\n",
    "\n"
   ]
  },
  {
   "cell_type": "code",
   "execution_count": 4,
   "metadata": {},
   "outputs": [],
   "source": [
    "zv_5x5=[1,1,1,0,0,\\\n",
    "        0,0,1,0,0,\\\n",
    "        0,0,1,0,0,\\\n",
    "        0,0,1,0,0,\\\n",
    "        0,0,1,1,1]\n",
    "\n",
    "zv_7x7=[1,1,1,1,0,0,0,\\\n",
    "        0,0,0,1,0,0,0,\\\n",
    "        0,0,0,1,0,0,0,\\\n",
    "        0,0,0,1,0,0,0,\\\n",
    "        0,0,0,1,0,0,0,\\\n",
    "        0,0,0,1,0,0,0,\\\n",
    "        0,0,0,1,1,1,1]\n",
    "\n",
    "zv_9x9=[1,1,1,1,1,0,0,0,0,\\\n",
    "        0,0,0,0,1,0,0,0,0,\\\n",
    "        0,0,0,0,1,0,0,0,0,\\\n",
    "        0,0,0,0,1,0,0,0,0,\\\n",
    "        0,0,0,0,1,0,0,0,0,\\\n",
    "        0,0,0,0,1,0,0,0,0,\\\n",
    "        0,0,0,0,1,0,0,0,0,\\\n",
    "        0,0,0,0,1,0,0,0,0,\\\n",
    "        0,0,0,0,1,1,1,1,1]    "
   ]
  },
  {
   "cell_type": "code",
   "execution_count": 5,
   "metadata": {},
   "outputs": [],
   "source": [
    "vv_5x5=[1,0,0,0,1,\\\n",
    "        1,0,0,0,1,\\\n",
    "        1,0,0,0,1,\\\n",
    "        0,1,0,1,0,\\\n",
    "        0,0,1,0,0]\n",
    "\n",
    "vv_7x7=[1,0,0,0,0,0,1,\\\n",
    "        1,0,0,0,0,0,1,\\\n",
    "        1,0,0,0,0,0,1,\\\n",
    "        1,0,0,0,0,0,1,\\\n",
    "        0,1,0,0,0,1,0,\\\n",
    "        0,0,1,0,1,0,0,\\\n",
    "        0,0,0,1,0,0,0]\n",
    "\n",
    "vv_9x9=[1,0,0,0,0,0,0,0,1,\\\n",
    "        1,0,0,0,0,0,0,0,1,\\\n",
    "        1,0,0,0,0,0,0,0,1,\\\n",
    "        1,0,0,0,0,0,0,0,1,\\\n",
    "        1,0,0,0,0,0,0,0,1,\\\n",
    "        0,1,0,0,0,0,0,1,0,\\\n",
    "        0,0,1,0,0,0,1,0,0,\\\n",
    "        0,0,0,1,0,1,0,0,0,\\\n",
    "        0,0,0,0,1,0,0,0,0]    "
   ]
  },
  {
   "cell_type": "code",
   "execution_count": 6,
   "metadata": {},
   "outputs": [],
   "source": [
    "nv_5x5=[0,0,0,0,0,\\\n",
    "        0,1,1,1,0,\\\n",
    "        1,0,0,0,1,\\\n",
    "        1,0,0,0,1,\\\n",
    "        1,0,0,0,1]\n",
    "\n",
    "nv_7x7=[0,0,0,0,0,0,0,\\\n",
    "        0,0,0,0,0,0,0,\\\n",
    "        0,1,1,1,1,1,0,\\\n",
    "        1,0,0,0,0,0,1,\\\n",
    "        1,0,0,0,0,0,1,\\\n",
    "        1,0,0,0,0,0,1,\\\n",
    "        1,0,0,0,0,0,1]\n",
    "\n",
    "nv_9x9=[0,0,0,0,0,0,0,0,0,\\\n",
    "        0,0,0,0,0,0,0,0,0,\\\n",
    "        0,0,1,1,1,1,1,0,0,\\\n",
    "        0,1,0,0,0,0,0,1,0,\\\n",
    "        1,0,0,0,0,0,0,0,1,\\\n",
    "        1,0,0,0,0,0,0,0,1,\\\n",
    "        1,0,0,0,0,0,0,0,1,\\\n",
    "        1,0,0,0,0,0,0,0,1,\\\n",
    "        1,0,0,0,0,0,0,0,1]"
   ]
  },
  {
   "cell_type": "code",
   "execution_count": 7,
   "metadata": {},
   "outputs": [],
   "source": [
    "# 5x5\n",
    "zpatterns=([zv_5x5]+noisy(zv_5x5))\n",
    "vpatterns=([vv_5x5]+noisy(vv_5x5))\n",
    "npatterns=([nv_5x5]+noisy(nv_5x5))\n",
    "\n",
    "patterns_5x5=zpatterns+vpatterns+npatterns"
   ]
  },
  {
   "cell_type": "code",
   "execution_count": 8,
   "metadata": {},
   "outputs": [],
   "source": [
    "# 7x7\n",
    "zpatterns=([zv_7x7]+noisy(zv_7x7))\n",
    "vpatterns=([vv_7x7]+noisy(vv_7x7))\n",
    "npatterns=([nv_7x7]+noisy(nv_7x7))\n",
    "\n",
    "patterns_7x7=zpatterns+vpatterns+npatterns"
   ]
  },
  {
   "cell_type": "code",
   "execution_count": 9,
   "metadata": {},
   "outputs": [],
   "source": [
    "# 9x9\n",
    "zpatterns=([zv_9x9]+noisy(zv_9x9))\n",
    "vpatterns=([vv_9x9]+noisy(vv_9x9))\n",
    "npatterns=([nv_9x9]+noisy(nv_9x9))\n",
    "\n",
    "patterns_9x9=zpatterns+vpatterns+npatterns"
   ]
  },
  {
   "cell_type": "code",
   "execution_count": 40,
   "metadata": {},
   "outputs": [
    {
     "name": "stdout",
     "output_type": "stream",
     "text": [
      "[0.1  0.54]\n",
      "[985.63 279.36]\n"
     ]
    }
   ],
   "source": [
    "# updated 08-25\n",
    "\n",
    "size=81\n",
    "patterns=patterns_9x9\n",
    "\n",
    "target_L=0.0\n",
    "target_H=1.2\n",
    "lenth=int(len(patterns)/3)\n",
    "\n",
    "target_0=np.array([target_H]*lenth+[target_L]*lenth+[target_L]*lenth)\n",
    "target_1=np.array([target_L]*lenth+[target_H]*lenth+[target_L]*lenth)\n",
    "target_2=np.array([target_L]*lenth+[target_L]*lenth+[target_H]*lenth)\n",
    "\n",
    "target=target_0\n",
    "#----\n",
    "AHL_unit_level=30 # 30x diuute\n",
    "transf_p=np.zeros(2)\n",
    "transf_n=np.zeros(2)\n",
    "\n",
    "transf_p[0]=transf_pos(x=0,K=50,y0=0.1,ym=1.0,n=0.45)\n",
    "transf_p[1]=transf_pos(x=AHL_unit_level,K=50,y0=0.1,ym=1.0,n=0.45)\n",
    "transf_n[0]=transf_neg(x=0,K=0.252,y0=0.341,ym=735,n=0.67)\n",
    "transf_n[1]=transf_neg(x=AHL_unit_level,K=0.252,y0=0.341,ym=735,n=0.67)\n",
    "  \n",
    "print(transf_p)\n",
    "print(transf_n)\n",
    "\n",
    "phi_pos=np.array([transf_p]*size)\n",
    "phi_neg=np.array([transf_n]*size)"
   ]
  },
  {
   "cell_type": "code",
   "execution_count": 41,
   "metadata": {},
   "outputs": [],
   "source": [
    "def examine_output(w,P,phi_pos,phi_neg):\n",
    "    y_n=np.zeros(len(P))\n",
    "    w_ph_=np.zeros(len(P))\n",
    "\n",
    "    for n in range(0,len(P)):\n",
    "        pttn=np.array(P[n])\n",
    "        \n",
    "        phi_nw=(1.0+w/np.sqrt(w**2))/2*output_fcn(pttn,phi_pos)+\\\n",
    "            (1.0-w/np.sqrt(w**2))/2*output_fcn(pttn,phi_neg)/w\n",
    "                \n",
    "        w_ph_[n]=np.dot(w,phi_nw)/len(w)\n",
    "        y_n[n]=activate(w_ph_[n])\n",
    "        \n",
    "    return y_n,w_ph_\n",
    "\n",
    "def output_fcn(pttn,fcn):\n",
    "    \n",
    "    CHL_levels=np.zeros(len(pttn))\n",
    "    for i in range(0,len(pttn)):\n",
    "        CHL_levels[i]=fcn[i][pttn[i]]\n",
    "        \n",
    "    return CHL_levels\n",
    "\n",
    "def activate(x):\n",
    "    K,y0,ym_x,n= 1.10292919e+03,1.94584842e-02,2.15950963e+04,2.33038211e+00\n",
    "\n",
    "    result=transf_pos(x.sum(),K=K,y0=y0/1e4,ym=2.0,n=n).sum()\n",
    "    return result"
   ]
  },
  {
   "cell_type": "code",
   "execution_count": 27,
   "metadata": {},
   "outputs": [],
   "source": [
    "def train_step1(target,size,eta,phi_pos,phi_neg):\n",
    "    rndstate=RandomState(2)\n",
    "    w=rndstate.random_sample(size)\n",
    "    print('w: ',w)\n",
    "    r=size\n",
    "\n",
    "    w_series=[]\n",
    "    y_series=[]\n",
    "    delta_series=[]\n",
    "\n",
    "    for it in range(0,350):\n",
    "        y_n=np.zeros(len(patterns))\n",
    "        g_n=np.zeros(len(patterns))\n",
    "        delta_err=np.zeros(size)\n",
    "        phi_n=[]\n",
    "    \n",
    "        for n in range(0,len(patterns)):\n",
    "            pttn=np.array(patterns[n])\n",
    "            # consider pttn as indexes in vector x, 0 means x[0], 1 means x[1]\n",
    "        \n",
    "            phi_nw=(1.0+w/np.sqrt(w**2))/2*output_fcn(pttn,phi_pos)+\\\n",
    "                (1.0-w/np.sqrt(w**2))/2*output_fcn(pttn,phi_neg)/w\n",
    "\n",
    "            g_n[n]=np.dot(w,phi_nw)/r\n",
    "            y_n[n]=activate(g_n[n])            \n",
    "            \n",
    "            tmp=(y_n[n]-target[n])\n",
    "            tmp=min(target_H,tmp)\n",
    "\n",
    "            phi_nw_pos=(1.0+w/np.sqrt(w**2))/2*output_fcn(pttn,phi_pos)                \n",
    "            delta_err+=tmp*phi_nw_pos\n",
    "        \n",
    "        w=w-eta*delta_err \n",
    "        y_series.append(y_n)\n",
    "        w_series.append(w)\n",
    "        delta_series.append(delta_err)\n",
    "    \n",
    "    return w,y_series,w_series,delta_series"
   ]
  },
  {
   "cell_type": "code",
   "execution_count": 42,
   "metadata": {},
   "outputs": [
    {
     "name": "stdout",
     "output_type": "stream",
     "text": [
      "w:  [0.44 0.03 0.55 0.44 0.42 0.33 0.2  0.62 0.3  0.27 0.62 0.53 0.13 0.51\n",
      " 0.18 0.79 0.85 0.49 0.85 0.08 0.51 0.07 0.43 0.1  0.13 0.6  0.23 0.11\n",
      " 0.22 0.35 0.47 0.2  0.64 0.48 0.51 0.39 0.79 0.58 0.16 0.7  0.96 0.5\n",
      " 0.89 0.34 0.57 0.43 0.44 0.78 0.54 0.95 0.54 0.08 0.37 0.85 0.41 0.03\n",
      " 0.25 0.07 0.99 0.97 0.8  0.6  0.76 0.17 0.29 0.52 0.36 0.05 0.98 0.44\n",
      " 0.5  0.32 0.26 0.39 0.83 0.74 0.38 0.01 0.8  0.27 0.58]\n",
      "w:  [0.44 0.03 0.55 0.44 0.42 0.33 0.2  0.62 0.3  0.27 0.62 0.53 0.13 0.51\n",
      " 0.18 0.79 0.85 0.49 0.85 0.08 0.51 0.07 0.43 0.1  0.13 0.6  0.23 0.11\n",
      " 0.22 0.35 0.47 0.2  0.64 0.48 0.51 0.39 0.79 0.58 0.16 0.7  0.96 0.5\n",
      " 0.89 0.34 0.57 0.43 0.44 0.78 0.54 0.95 0.54 0.08 0.37 0.85 0.41 0.03\n",
      " 0.25 0.07 0.99 0.97 0.8  0.6  0.76 0.17 0.29 0.52 0.36 0.05 0.98 0.44\n",
      " 0.5  0.32 0.26 0.39 0.83 0.74 0.38 0.01 0.8  0.27 0.58]\n",
      "w:  [0.44 0.03 0.55 0.44 0.42 0.33 0.2  0.62 0.3  0.27 0.62 0.53 0.13 0.51\n",
      " 0.18 0.79 0.85 0.49 0.85 0.08 0.51 0.07 0.43 0.1  0.13 0.6  0.23 0.11\n",
      " 0.22 0.35 0.47 0.2  0.64 0.48 0.51 0.39 0.79 0.58 0.16 0.7  0.96 0.5\n",
      " 0.89 0.34 0.57 0.43 0.44 0.78 0.54 0.95 0.54 0.08 0.37 0.85 0.41 0.03\n",
      " 0.25 0.07 0.99 0.97 0.8  0.6  0.76 0.17 0.29 0.52 0.36 0.05 0.98 0.44\n",
      " 0.5  0.32 0.26 0.39 0.83 0.74 0.38 0.01 0.8  0.27 0.58]\n"
     ]
    }
   ],
   "source": [
    "#w0_5x5,yseries0_5x5,_,_=train_step1(target_0,size=5**2,eta=1.8,phi_pos=phi_pos,phi_neg=phi_neg)\n",
    "#w1_5x5,yseries1_5x5,_,_=train_step1(target_1,size=5**2,eta=1.8,phi_pos=phi_pos,phi_neg=phi_neg)\n",
    "#w2_5x5,yseries2_5x5,_,_=train_step1(target_2,size=5**2,eta=1.8,phi_pos=phi_pos,phi_neg=phi_neg)\n",
    "\n",
    "#w0_7x7,yseries0_7x7,_,_=train_step1(target_0,size=7**2,eta=1.3,phi_pos=phi_pos,phi_neg=phi_neg)\n",
    "#w1_7x7,yseries1_7x7,_,_=train_step1(target_1,size=7**2,eta=1.3,phi_pos=phi_pos,phi_neg=phi_neg)\n",
    "#w2_7x7,yseries2_7x7,_,_=train_step1(target_2,size=7**2,eta=1.3,phi_pos=phi_pos,phi_neg=phi_neg)\n",
    "\n",
    "w0_9x9,yseries0_9x9,_,_=train_step1(target_0,size=9**2,eta=1.0,phi_pos=phi_pos,phi_neg=phi_neg)\n",
    "w1_9x9,yseries1_9x9,_,_=train_step1(target_1,size=9**2,eta=1.0,phi_pos=phi_pos,phi_neg=phi_neg)\n",
    "w2_9x9,yseries2_9x9,_,_=train_step1(target_2,size=9**2,eta=1.0,phi_pos=phi_pos,phi_neg=phi_neg)"
   ]
  },
  {
   "cell_type": "code",
   "execution_count": 30,
   "metadata": {},
   "outputs": [
    {
     "data": {
      "image/png": "[encoded data removed]",
      "text/plain": [
       "<Figure size 360x288 with 1 Axes>"
      ]
     },
     "metadata": {
      "needs_background": "light"
     },
     "output_type": "display_data"
    }
   ],
   "source": [
    "fig=plt.figure(figsize=(5,4))\n",
    "ax=fig.add_subplot(111)\n",
    "\n",
    "target=target_0\n",
    "yseries=yseries0_7x7\n",
    "for i in range(0,len(patterns)):\n",
    "    if target[i]==target_H:\n",
    "        ax.plot(np.array(yseries).T[i],color='royalblue')\n",
    "        \n",
    "    if target[i]==target_L:\n",
    "        ax.plot(np.array(yseries).T[i],color='crimson')\n",
    "    \n",
    "ax.set_xlabel('iterations',fontsize=13)\n",
    "ax.set_ylabel('R_output',fontsize=13)\n",
    "ax.tick_params(direction='in')\n",
    "\n",
    "#fig_path='/Users/ximing/Documents/technion_stuff/figures/'\n",
    "#plt.savefig(fig_path+'Routput_iterations.png',dpi=300)"
   ]
  },
  {
   "cell_type": "code",
   "execution_count": 43,
   "metadata": {},
   "outputs": [],
   "source": [
    "#output_0_5x5,_=examine_output(w0_5x5,patterns_5x5,phi_pos,phi_neg)\n",
    "#output_1_5x5,_=examine_output(w1_5x5,patterns_5x5,phi_pos,phi_neg)\n",
    "#output_2_5x5,_=examine_output(w2_5x5,patterns_5x5,phi_pos,phi_neg)\n",
    "\n",
    "#output_0_7x7,_=examine_output(w0_7x7,patterns_7x7,phi_pos,phi_neg)\n",
    "#output_1_7x7,_=examine_output(w1_7x7,patterns_7x7,phi_pos,phi_neg)\n",
    "#output_2_7x7,_=examine_output(w2_7x7,patterns_7x7,phi_pos,phi_neg)\n",
    "\n",
    "output_0_9x9,_=examine_output(w0_9x9,patterns_9x9,phi_pos,phi_neg)\n",
    "output_1_9x9,_=examine_output(w1_9x9,patterns_9x9,phi_pos,phi_neg)\n",
    "output_2_9x9,_=examine_output(w2_9x9,patterns_9x9,phi_pos,phi_neg)"
   ]
  },
  {
   "cell_type": "code",
   "execution_count": 46,
   "metadata": {},
   "outputs": [
    {
     "name": "stdout",
     "output_type": "stream",
     "text": [
      "-8, 40, 41, 40, 40, 1275, 1275, 1275, 40, 40, 1275, 1275, 1275, 41, 1275, 1275, 1275, 41, 41, 1275, 8960, 8960, 7726, 8960, 8960, 1275, 40, 40, 8960, 1275, 1275, 40, 1275, 1275, 8960, 40, 7726, 1275, 1275, 1275, 41, 1275, 1275, 1275, 7726, 8960, 40, 1275, 1275, 41, 1275, 1275, 40, 8961, 8960, 1275, 40, 1275, 41, 1276, 41, 1275, 8961, 8960, 1275, 1275, 40, 40, 41, 1275, 1275, 8960, 8960, 1275, 1275, 1275, -8, 40, 41, 40, 7726\n"
     ]
    }
   ],
   "source": [
    "w2_9x9_txt=\", \".join(\"%.0f\" % f for f in w2_9x9)\n",
    "print(w2_9x9_txt)"
   ]
  },
  {
   "cell_type": "code",
   "execution_count": 47,
   "metadata": {},
   "outputs": [
    {
     "data": {
      "image/png": "[encoded data removed]",
      "text/plain": [
       "<Figure size 1044x288 with 3 Axes>"
      ]
     },
     "metadata": {
      "needs_background": "light"
     },
     "output_type": "display_data"
    }
   ],
   "source": [
    "ymax=1.2\n",
    "\n",
    "fig=plt.figure(figsize=(14.5,4))\n",
    "#=======\n",
    "ax=fig.add_subplot(131)\n",
    "\n",
    "line0,=ax.plot(np.arange(0,len(output_0_5x5)),output_0_5x5,marker='.',lw=0.5,color='royalblue',label='$\\\\vec{w_0}$')\n",
    "line1,=ax.plot(np.arange(0,len(output_1_5x5)),output_1_5x5,marker='.',lw=0.5,color='mediumseagreen',label='$\\\\vec{w_1}$')\n",
    "line2,=ax.plot(np.arange(0,len(output_2_5x5)),output_2_5x5,marker='.',lw=0.5,color='orange',label='$\\\\vec{w_2}$')\n",
    "ax.set_ylim([0,ymax])\n",
    "ax.tick_params(direction='in',size=12.5)\n",
    "ax.set_yticks([0,0.2,0.5,0.8,1.0])\n",
    "ax.set_xlabel('5x5 patterns',fontsize=14)\n",
    "ax.legend(loc='upper left',ncol=3,fontsize=13)\n",
    "ax.set_xticks([0,26,52])\n",
    "#=======\n",
    "ax=fig.add_subplot(132)\n",
    "\n",
    "ax.plot(np.arange(0,len(output_0_7x7)),output_0_7x7,marker='.',lw=0.5,color='royalblue')\n",
    "ax.plot(np.arange(0,len(output_1_7x7)),output_1_7x7,marker='.',lw=0.5,color='mediumseagreen')\n",
    "ax.plot(np.arange(0,len(output_2_7x7)),output_2_7x7,marker='.',lw=0.5,color='orange')\n",
    "ax.set_ylim([0,ymax])\n",
    "ax.tick_params(direction='in',size=12.5)\n",
    "ax.set_yticks([0,0.2,0.5,0.8,1.0])\n",
    "ax.set_xlabel('7x7 patterns',fontsize=14)\n",
    "ax.set_xticks([0,50,100])\n",
    "\n",
    "\n",
    "\n",
    "#=======\n",
    "ax=fig.add_subplot(133)\n",
    "\n",
    "ax.plot(np.arange(0,len(output_0_9x9)),output_0_9x9,marker='.',lw=0.5,color='royalblue')\n",
    "ax.plot(np.arange(0,len(output_1_9x9)),output_1_9x9,marker='.',lw=0.5,color='mediumseagreen')\n",
    "ax.plot(np.arange(0,len(output_2_9x9)),output_2_9x9,marker='.',lw=0.5,color='orange')\n",
    "ax.set_ylim([0,ymax])\n",
    "ax.tick_params(direction='in',size=12.5)\n",
    "ax.set_yticks([0,0.2,0.5,0.8,1.0])\n",
    "ax.set_xlabel('9x9 patterns',fontsize=14)\n",
    "ax.set_xticks([0,82,164])\n",
    "\n",
    "\n",
    "fig_path='/Users/ximing/Documents/technion_stuff/figures/'\n",
    "plt.savefig(fig_path+'larger_scale_patterns.png',dpi=400)"
   ]
  },
  {
   "cell_type": "code",
   "execution_count": 448,
   "metadata": {},
   "outputs": [
    {
     "data": {
      "image/png": "[encoded data removed]",
      "text/plain": [
       "<Figure size 360x288 with 1 Axes>"
      ]
     },
     "metadata": {
      "needs_background": "light"
     },
     "output_type": "display_data"
    }
   ],
   "source": [
    "fig=plt.figure(figsize=(5,4))\n",
    "ax=fig.add_subplot(111)\n",
    "\n",
    "for i in range(0,len(y_n)):\n",
    "    if target_0[i]==target_H:\n",
    "        ax.plot(np.array(y_series0).T[i],color='royalblue')\n",
    "        \n",
    "    if target_0[i]==target_L:\n",
    "        ax.plot(np.array(y_series0).T[i],color='crimson')\n",
    "    \n",
    "ax.set_xlabel('iterations',fontsize=13)\n",
    "ax.set_ylabel('R_output',fontsize=13)\n",
    "ax.tick_params(direction='in')\n",
    "\n",
    "#fig_path='/Users/ximing/Documents/technion_stuff/figures/'\n",
    "#plt.savefig(fig_path+'Routput_iterations.png',dpi=300)"
   ]
  },
  {
   "cell_type": "code",
   "execution_count": 140,
   "metadata": {},
   "outputs": [],
   "source": [
    "# 06-01-2020\n",
    "# basinhopping method\n",
    "\n",
    "# update based on bishop PRAM, chapter 4\n",
    "# sequential learning\n",
    "\n",
    "AHL_unit_level=3e4\n",
    "r=size\n",
    "x=np.linspace(0.0,AHL_unit_level,2)#*AHL_unit_level\n",
    "#K_neg,y0_neg,ym_neg,n_neg=37.87475102,0.29041731,0.76293279,2\n",
    "#K_neg,y0_neg,ym_neg,n_neg=475.59048845,0.342,0.590,0.69197127\n",
    "#transf_n=transf_rep(x,K=K_neg,y0=y0_neg,ym=ym_neg,n=n_neg)\n",
    "#transf_p=transf_fcn(x)\n",
    "transf_n=np.array([900,270])\n",
    "transf_p=np.array([0.15,1.0])\n",
    "phi_pos=np.array([transf_p]*size)\n",
    "phi_neg=np.array([transf_n]*size)\n",
    "    \n",
    "\n",
    "def func(w0):\n",
    "    y=np.zeros(len(patterns))\n",
    "\n",
    "    for n in range(0,len(patterns)):\n",
    "        pttn=np.array(patterns[n])\n",
    "        phi_nw=(1.0+w0/np.sqrt(w0**2))/2*output_fcn(pttn,phi_pos)+\\\n",
    "            (1.0-w0/np.sqrt(w0**2))/2*output_fcn(pttn,phi_neg)/w0\n",
    "        y[n]=activate(np.dot(w0,phi_nw)/r)\n",
    "        \n",
    "    product=(2*y-target_H)*(2*target-target_H)\n",
    "\n",
    "    return np.var(product)*10+(target_H-np.mean(product))\n",
    "\n"
   ]
  },
  {
   "cell_type": "code",
   "execution_count": null,
   "metadata": {},
   "outputs": [],
   "source": [
    "np.random.seed=3\n",
    "w=np.random.random(size)\n",
    "w=w0\n",
    "minimizer_kwargs = {\"method\": \"Nelder-Mead\"}  #SLSQP  #Nelder-Mead #Powell gives negative entries\n",
    "res=basinhopping(func,w,minimizer_kwargs=minimizer_kwargs,niter=30)\n",
    "print(res.lowest_optimization_result.success)\n",
    "for i in range(0,len(res.x)):print(res.x[i],',')"
   ]
  },
  {
   "cell_type": "code",
   "execution_count": 65,
   "metadata": {},
   "outputs": [
    {
     "name": "stdout",
     "output_type": "stream",
     "text": [
      "[0.98 0.98 0.78 0.78 0.93 0.98 0.98 0.98 0.97 0.98 0.93 0.98 0.98 0.78\n",
      " 0.93 0.93 0.78 0.09 0.09 0.19 0.18 0.1  0.09 0.09 0.09 0.09 0.09 0.08\n",
      " 0.09 0.09 0.18 0.1  0.1  0.19]\n",
      "[966.33 966.34 809.22 809.83 926.95 966.3  966.33 966.97 964.1  966.33\n",
      " 926.95 967.07 966.3  809.75 926.95 926.95 808.88 220.58 220.57 377.68\n",
      " 377.07 259.95 220.55 220.58 221.22 218.35 220.57 181.2  221.32 220.55\n",
      " 377.16 259.95 259.95 378.02]\n",
      "0.3677211997649403\n"
     ]
    }
   ],
   "source": [
    "# notes: parameters in receiver activation functions Kd is unknown, here used Kd=10\n",
    "# the value of Kd affects the absolute values of mutations \n",
    "\n",
    "w0_n=res.x\n",
    "#w0_n=w0\n",
    "y_n,w_ph=examine_output(w0_n,patterns)\n",
    "product=(2*y_n-target_H)*(2*target-target_H)\n",
    "print(y_n)\n",
    "print(w_ph)\n",
    "print(target_H-np.mean(product)+10*np.var(product))\n"
   ]
  },
  {
   "cell_type": "code",
   "execution_count": 110,
   "metadata": {},
   "outputs": [
    {
     "name": "stdout",
     "output_type": "stream",
     "text": [
      "[1.25 1.18 1.17 1.17 1.26 1.25 1.25 1.25 1.18 1.25 1.25 1.23 1.26 1.17\n",
      " 1.26 1.23 1.25 1.25 1.17 1.25 1.25 1.25 1.26 1.18 1.17 1.18 0.24 0.15\n",
      " 0.39 0.39 0.26 0.24 0.24 0.24 0.37 0.24 0.24 0.28 0.26 0.39 0.26 0.28\n",
      " 0.24 0.24 0.39 0.24 0.24 0.24 0.26 0.15 0.39 0.37 0.24 0.37 0.39 0.39\n",
      " 0.26 0.24 0.24 0.24 0.15 0.24 0.24 0.28 0.26 0.39 0.26 0.28 0.24 0.24\n",
      " 0.39 0.24 0.24 0.24 0.26 0.37 0.39 0.15]\n"
     ]
    },
    {
     "data": {
      "text/plain": [
       "Text(0.5, 1.0, 'step two')"
      ]
     },
     "execution_count": 110,
     "metadata": {},
     "output_type": "execute_result"
    },
    {
     "data": {
      "image/png": "[encoded data removed]",
      "text/plain": [
       "<Figure size 648x216 with 2 Axes>"
      ]
     },
     "metadata": {
      "needs_background": "light"
     },
     "output_type": "display_data"
    }
   ],
   "source": [
    "y_w0,_=examine_output(w0,patterns)\n",
    "print(y_w0)\n",
    "x=np.arange(0,len(y_w0))\n",
    "fig=plt.figure(figsize=(9,3))\n",
    "ax=fig.add_subplot(121)\n",
    "sns.barplot(x,y_w0,color='darkgrey')\n",
    "ax.set_ylim([0,1])\n",
    "ax.tick_params(direction='in')\n",
    "ax.tick_params(axis='x',labelbottom='off')\n",
    "ax.set_ylabel('Routput',fontsize=13)\n",
    "ax.set_title('step one', fontsize=15)\n",
    "\n",
    "#----\n",
    "ax=fig.add_subplot(122)\n",
    "sns.barplot(x,y_n,color='mediumseagreen')\n",
    "ax.set_ylim([0,1])\n",
    "ax.tick_params(direction='in')\n",
    "ax.tick_params(axis='x',labelbottom='off')\n",
    "ax.set_title('step two', fontsize=15)\n",
    "\n",
    "#fig_path='/Users/ximing/Documents/technion_stuff/figures/'\n",
    "#plt.savefig(fig_path+'n_output_bargraph_n=4.0.png',dpi=300)"
   ]
  },
  {
   "cell_type": "code",
   "execution_count": null,
   "metadata": {},
   "outputs": [],
   "source": []
  }
 ],
 "metadata": {
  "kernelspec": {
   "display_name": "Python 3",
   "language": "python",
   "name": "python3"
  },
  "language_info": {
   "codemirror_mode": {
    "name": "ipython",
    "version": 3
   },
   "file_extension": ".py",
   "mimetype": "text/x-python",
   "name": "python",
   "nbconvert_exporter": "python",
   "pygments_lexer": "ipython3",
   "version": "3.8.5"
  }
 },
 "nbformat": 4,
 "nbformat_minor": 4
}
