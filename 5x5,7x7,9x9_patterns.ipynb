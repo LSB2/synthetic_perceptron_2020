{
 "cells": [
  {
   "cell_type": "code",
   "execution_count": null,
   "metadata": {},
   "outputs": [],
   "source": [
    "# this file find weights for 5x5, 7x7, 9x9 patterns\n",
    "# chemical naming: AHL is the same as OC6, CHL is the same as OHC14"
   ]
  },
  {
   "cell_type": "code",
   "execution_count": 1,
   "metadata": {},
   "outputs": [],
   "source": [
    "from numpy.random import RandomState\n",
    "import numpy as np\n",
    "np.set_printoptions(precision=2,suppress=True)\n",
    "\n",
    "import matplotlib.pyplot as plt\n",
    "import scipy.optimize as opt\n",
    "from math import *\n",
    "\n",
    "from scipy.optimize import basinhopping,minimize,differential_evolution\n",
    "from scipy.stats import moment"
   ]
  },
  {
   "cell_type": "code",
   "execution_count": 2,
   "metadata": {},
   "outputs": [],
   "source": [
    "# basis functions, phi_pos, phi_neg\n",
    "def transf_pos(x,K=2.0,y0=0.001,ym=1.5,n=2):\n",
    "    result=ym*((x/K)**n)/(1+(x/K)**n)+ym*y0\n",
    "    return result\n",
    "\n",
    "def transf_neg(x,K=2.0,y0=0.001,ym=1.5,n=2):\n",
    "    result=ym/(1+(x/K)**n)+y0*ym\n",
    "    return result"
   ]
  },
  {
   "cell_type": "code",
   "execution_count": 3,
   "metadata": {},
   "outputs": [],
   "source": [
    "def noisy(vector):\n",
    "    result=[]\n",
    "    for i in range(0,len(vector)):\n",
    "        v=vector.copy()\n",
    "        v[i]=np.logical_not(vector[i]).astype(int)\n",
    "        #print(i,vector[i],v[i])\n",
    "        result.append(v)\n",
    "    return result"
   ]
  },
  {
   "cell_type": "code",
   "execution_count": 4,
   "metadata": {},
   "outputs": [],
   "source": [
    "zv_5x5=[1,1,1,0,0,\\\n",
    "        0,0,1,0,0,\\\n",
    "        0,0,1,0,0,\\\n",
    "        0,0,1,0,0,\\\n",
    "        0,0,1,1,1]\n",
    "\n",
    "zv_7x7=[1,1,1,1,0,0,0,\\\n",
    "        0,0,0,1,0,0,0,\\\n",
    "        0,0,0,1,0,0,0,\\\n",
    "        0,0,0,1,0,0,0,\\\n",
    "        0,0,0,1,0,0,0,\\\n",
    "        0,0,0,1,0,0,0,\\\n",
    "        0,0,0,1,1,1,1]\n",
    "\n",
    "zv_9x9=[1,1,1,1,1,0,0,0,0,\\\n",
    "        0,0,0,0,1,0,0,0,0,\\\n",
    "        0,0,0,0,1,0,0,0,0,\\\n",
    "        0,0,0,0,1,0,0,0,0,\\\n",
    "        0,0,0,0,1,0,0,0,0,\\\n",
    "        0,0,0,0,1,0,0,0,0,\\\n",
    "        0,0,0,0,1,0,0,0,0,\\\n",
    "        0,0,0,0,1,0,0,0,0,\\\n",
    "        0,0,0,0,1,1,1,1,1]    "
   ]
  },
  {
   "cell_type": "code",
   "execution_count": 5,
   "metadata": {},
   "outputs": [],
   "source": [
    "vv_5x5=[1,0,0,0,1,\\\n",
    "        1,0,0,0,1,\\\n",
    "        1,0,0,0,1,\\\n",
    "        0,1,0,1,0,\\\n",
    "        0,0,1,0,0]\n",
    "\n",
    "vv_7x7=[1,0,0,0,0,0,1,\\\n",
    "        1,0,0,0,0,0,1,\\\n",
    "        1,0,0,0,0,0,1,\\\n",
    "        1,0,0,0,0,0,1,\\\n",
    "        0,1,0,0,0,1,0,\\\n",
    "        0,0,1,0,1,0,0,\\\n",
    "        0,0,0,1,0,0,0]\n",
    "\n",
    "vv_9x9=[1,0,0,0,0,0,0,0,1,\\\n",
    "        1,0,0,0,0,0,0,0,1,\\\n",
    "        1,0,0,0,0,0,0,0,1,\\\n",
    "        1,0,0,0,0,0,0,0,1,\\\n",
    "        1,0,0,0,0,0,0,0,1,\\\n",
    "        0,1,0,0,0,0,0,1,0,\\\n",
    "        0,0,1,0,0,0,1,0,0,\\\n",
    "        0,0,0,1,0,1,0,0,0,\\\n",
    "        0,0,0,0,1,0,0,0,0]    "
   ]
  },
  {
   "cell_type": "code",
   "execution_count": 6,
   "metadata": {},
   "outputs": [],
   "source": [
    "nv_5x5=[0,0,0,0,0,\\\n",
    "        0,1,1,1,0,\\\n",
    "        1,0,0,0,1,\\\n",
    "        1,0,0,0,1,\\\n",
    "        1,0,0,0,1]\n",
    "\n",
    "nv_7x7=[0,0,0,0,0,0,0,\\\n",
    "        0,0,0,0,0,0,0,\\\n",
    "        0,1,1,1,1,1,0,\\\n",
    "        1,0,0,0,0,0,1,\\\n",
    "        1,0,0,0,0,0,1,\\\n",
    "        1,0,0,0,0,0,1,\\\n",
    "        1,0,0,0,0,0,1]\n",
    "\n",
    "nv_9x9=[0,0,0,0,0,0,0,0,0,\\\n",
    "        0,0,0,0,0,0,0,0,0,\\\n",
    "        0,0,1,1,1,1,1,0,0,\\\n",
    "        0,1,0,0,0,0,0,1,0,\\\n",
    "        1,0,0,0,0,0,0,0,1,\\\n",
    "        1,0,0,0,0,0,0,0,1,\\\n",
    "        1,0,0,0,0,0,0,0,1,\\\n",
    "        1,0,0,0,0,0,0,0,1,\\\n",
    "        1,0,0,0,0,0,0,0,1]"
   ]
  },
  {
   "cell_type": "code",
   "execution_count": 7,
   "metadata": {},
   "outputs": [],
   "source": [
    "# 5x5 pattern set\n",
    "zpatterns=([zv_5x5]+noisy(zv_5x5))\n",
    "vpatterns=([vv_5x5]+noisy(vv_5x5))\n",
    "npatterns=([nv_5x5]+noisy(nv_5x5))\n",
    "\n",
    "patterns_5x5=zpatterns+vpatterns+npatterns"
   ]
  },
  {
   "cell_type": "code",
   "execution_count": 8,
   "metadata": {},
   "outputs": [],
   "source": [
    "# 7x7\n",
    "zpatterns=([zv_7x7]+noisy(zv_7x7))\n",
    "vpatterns=([vv_7x7]+noisy(vv_7x7))\n",
    "npatterns=([nv_7x7]+noisy(nv_7x7))\n",
    "\n",
    "patterns_7x7=zpatterns+vpatterns+npatterns"
   ]
  },
  {
   "cell_type": "code",
   "execution_count": 9,
   "metadata": {},
   "outputs": [],
   "source": [
    "# 9x9\n",
    "zpatterns=([zv_9x9]+noisy(zv_9x9))\n",
    "vpatterns=([vv_9x9]+noisy(vv_9x9))\n",
    "npatterns=([nv_9x9]+noisy(nv_9x9))\n",
    "\n",
    "patterns_9x9=zpatterns+vpatterns+npatterns"
   ]
  },
  {
   "cell_type": "code",
   "execution_count": 16,
   "metadata": {},
   "outputs": [],
   "source": [
    "# define variables\n",
    "# for 5x5 patters, size=25, patterns=patterns_5x5\n",
    "# for 7x7 patters, size=49, patterns=patterns_7x7\n",
    "# for 9x9 patters, size=81, patterns=patterns_9x9\n",
    "\n",
    "size=25\n",
    "patterns=patterns_5x5\n",
    "\n",
    "target_L=0.0\n",
    "target_H=1.2\n",
    "lenth=int(len(patterns)/3)\n",
    "\n",
    "target_0=np.array([target_H]*lenth+[target_L]*lenth+[target_L]*lenth)\n",
    "target_1=np.array([target_L]*lenth+[target_H]*lenth+[target_L]*lenth)\n",
    "target_2=np.array([target_L]*lenth+[target_L]*lenth+[target_H]*lenth)\n",
    "\n",
    "target=target_0\n",
    "#----\n",
    "AHL_unit_level=30\n",
    "transf_p=np.zeros(2)\n",
    "transf_n=np.zeros(2)\n",
    "\n",
    "transf_p[0]=transf_pos(x=0,K=50,y0=0.1,ym=1.0,n=0.45)\n",
    "transf_p[1]=transf_pos(x=AHL_unit_level,K=50,y0=0.1,ym=1.0,n=0.45)\n",
    "transf_n[0]=transf_neg(x=0,K=0.252,y0=0.341,ym=735,n=0.67)\n",
    "transf_n[1]=transf_neg(x=AHL_unit_level,K=0.252,y0=0.341,ym=735,n=0.67)\n",
    "\n",
    "phi_pos=np.array([transf_p]*size)\n",
    "phi_neg=np.array([transf_n]*size)"
   ]
  },
  {
   "cell_type": "code",
   "execution_count": 17,
   "metadata": {},
   "outputs": [],
   "source": [
    "def examine_output(w,P,phi_pos,phi_neg):\n",
    "    y_n=np.zeros(len(P))\n",
    "    w_ph_=np.zeros(len(P))\n",
    "\n",
    "    for n in range(0,len(P)):\n",
    "        pttn=np.array(P[n])\n",
    "        \n",
    "        phi_nw=(1.0+w/np.sqrt(w**2))/2*output_fcn(pttn,phi_pos)+\\\n",
    "            (1.0-w/np.sqrt(w**2))/2*output_fcn(pttn,phi_neg)/w\n",
    "                \n",
    "        w_ph_[n]=np.dot(w,phi_nw)/len(w)\n",
    "        y_n[n]=activate(w_ph_[n])\n",
    "        \n",
    "    return y_n,w_ph_\n",
    "\n",
    "def output_fcn(pttn,fcn):\n",
    "    \n",
    "    CHL_levels=np.zeros(len(pttn))\n",
    "    for i in range(0,len(pttn)):\n",
    "        CHL_levels[i]=fcn[i][pttn[i]]\n",
    "        \n",
    "    return CHL_levels\n",
    "\n",
    "def activate(x):\n",
    "    K,y0,ym_x,n= 1.10292919e+03,1.94584842e-02,2.15950963e+04,2.33038211e+00\n",
    "\n",
    "    result=transf_pos(x.sum(),K=K,y0=y0/1e4,ym=2.0,n=n).sum()\n",
    "    return result"
   ]
  },
  {
   "cell_type": "code",
   "execution_count": 18,
   "metadata": {},
   "outputs": [],
   "source": [
    "def train_step1(target,size,eta,phi_pos,phi_neg):\n",
    "    rndstate=RandomState(2)\n",
    "    w=rndstate.random_sample(size)\n",
    "    r=size\n",
    "\n",
    "    w_series=[]\n",
    "    y_series=[]\n",
    "    delta_series=[]\n",
    "\n",
    "    for it in range(0,350):\n",
    "        y_n=np.zeros(len(patterns))\n",
    "        g_n=np.zeros(len(patterns))\n",
    "        delta_err=np.zeros(size)\n",
    "        phi_n=[]\n",
    "    \n",
    "        for n in range(0,len(patterns)):\n",
    "            pttn=np.array(patterns[n])\n",
    "            # consider pttn as indexes in vector x, 0 means x[0], 1 means x[1]\n",
    "        \n",
    "            phi_nw=(1.0+w/np.sqrt(w**2))/2*output_fcn(pttn,phi_pos)+\\\n",
    "                (1.0-w/np.sqrt(w**2))/2*output_fcn(pttn,phi_neg)/w\n",
    "\n",
    "            g_n[n]=np.dot(w,phi_nw)/r\n",
    "            y_n[n]=activate(g_n[n])            \n",
    "            \n",
    "            tmp=(y_n[n]-target[n])\n",
    "            tmp=min(target_H,tmp)\n",
    "\n",
    "            phi_nw_pos=(1.0+w/np.sqrt(w**2))/2*output_fcn(pttn,phi_pos)                \n",
    "            delta_err+=tmp*phi_nw_pos\n",
    "        \n",
    "        w=w-eta*delta_err \n",
    "        y_series.append(y_n)\n",
    "        w_series.append(w)\n",
    "        delta_series.append(delta_err)\n",
    "    \n",
    "    return w,y_series,w_series,delta_series"
   ]
  },
  {
   "cell_type": "code",
   "execution_count": 19,
   "metadata": {},
   "outputs": [],
   "source": [
    "# demo example, 5x5 patterns\n",
    "# using AHL_unit_level=30, can obtain the same output values as in Table S4 \n",
    "# also in 3x3 patters, we set AHL_unit_level=33; using AHL_unit_level=30, the output is somewhat different\n",
    "\n",
    "w0_5x5,yseries0_5x5,_,_=train_step1(target_0,size=5**2,eta=1.8,phi_pos=phi_pos,phi_neg=phi_neg)\n",
    "w1_5x5,yseries1_5x5,_,_=train_step1(target_1,size=5**2,eta=1.8,phi_pos=phi_pos,phi_neg=phi_neg)\n",
    "w2_5x5,yseries2_5x5,_,_=train_step1(target_2,size=5**2,eta=1.8,phi_pos=phi_pos,phi_neg=phi_neg)"
   ]
  },
  {
   "cell_type": "code",
   "execution_count": 24,
   "metadata": {},
   "outputs": [
    {
     "name": "stdout",
     "output_type": "stream",
     "text": [
      "5x5, w0:  [4462. 5273. 5273.  815.    1.    1.    1. 4463.    1.    1.   -5.  815.\n",
      " 5273.  815.   -5.    2.    2. 5273.    2.    1.    1.  814. 4462. 5273.\n",
      " 4462.]\n",
      "5x5, w1:  [4462.    1.    1.  815. 5273. 5273.    1.   -5.    1. 5273. 4463.  815.\n",
      "    1.  815. 4462.    2. 5273.    1. 5273.    1.    1.  814. 4462.    1.\n",
      "   -5.]\n",
      "5x5, w2:  [  -5.    1.    1.  815.    1.    1. 5273. 4463. 5273.    1. 4463.  815.\n",
      "    1.  815. 4462. 5273.    2.    1.    2. 5273. 5273.  814.   -5.    1.\n",
      " 4462.]\n"
     ]
    }
   ],
   "source": [
    "print('5x5, w0: ',np.round(w0_5x5))\n",
    "print('5x5, w1: ',np.round(w1_5x5))\n",
    "print('5x5, w2: ',np.round(w2_5x5))"
   ]
  },
  {
   "cell_type": "code",
   "execution_count": 43,
   "metadata": {},
   "outputs": [],
   "source": [
    "# demo example, 7x7 patterns\n",
    "# need to jump to previous code to reset size=49, patterns=patterns_7x7\n",
    "\n",
    "output_0_7x7,_=examine_output(w0_7x7,patterns_7x7,phi_pos,phi_neg)\n",
    "output_1_7x7,_=examine_output(w1_7x7,patterns_7x7,phi_pos,phi_neg)\n",
    "output_2_7x7,_=examine_output(w2_7x7,patterns_7x7,phi_pos,phi_neg)\n"
   ]
  },
  {
   "cell_type": "code",
   "execution_count": null,
   "metadata": {},
   "outputs": [],
   "source": [
    "# demo example, 9x9 patterns\n",
    "# need to jump to previous code to reset size=81, patterns=patterns_9x9\n",
    "\n",
    "output_0_9x9,_=examine_output(w0_9x9,patterns_9x9,phi_pos,phi_neg)\n",
    "output_1_9x9,_=examine_output(w1_9x9,patterns_9x9,phi_pos,phi_neg)\n",
    "output_2_9x9,_=examine_output(w2_9x9,patterns_9x9,phi_pos,phi_neg)"
   ]
  },
  {
   "cell_type": "code",
   "execution_count": 47,
   "metadata": {},
   "outputs": [
    {
     "data": {
      "image/png": "[encoded data removed]",
      "text/plain": [
       "<Figure size 1044x288 with 3 Axes>"
      ]
     },
     "metadata": {
      "needs_background": "light"
     },
     "output_type": "display_data"
    }
   ],
   "source": [
    "# demo example, for Fig 6a\n",
    "ymax=1.2\n",
    "\n",
    "fig=plt.figure(figsize=(14.5,4))\n",
    "#=======\n",
    "ax=fig.add_subplot(131)\n",
    "\n",
    "line0,=ax.plot(np.arange(0,len(output_0_5x5)),output_0_5x5,marker='.',lw=0.5,color='royalblue',label='$\\\\vec{w_0}$')\n",
    "line1,=ax.plot(np.arange(0,len(output_1_5x5)),output_1_5x5,marker='.',lw=0.5,color='mediumseagreen',label='$\\\\vec{w_1}$')\n",
    "line2,=ax.plot(np.arange(0,len(output_2_5x5)),output_2_5x5,marker='.',lw=0.5,color='orange',label='$\\\\vec{w_2}$')\n",
    "ax.set_ylim([0,ymax])\n",
    "ax.tick_params(direction='in',size=12.5)\n",
    "ax.set_yticks([0,0.2,0.5,0.8,1.0])\n",
    "ax.set_xlabel('5x5 patterns',fontsize=14)\n",
    "ax.legend(loc='upper left',ncol=3,fontsize=13)\n",
    "ax.set_xticks([0,26,52])\n",
    "#=======\n",
    "ax=fig.add_subplot(132)\n",
    "\n",
    "ax.plot(np.arange(0,len(output_0_7x7)),output_0_7x7,marker='.',lw=0.5,color='royalblue')\n",
    "ax.plot(np.arange(0,len(output_1_7x7)),output_1_7x7,marker='.',lw=0.5,color='mediumseagreen')\n",
    "ax.plot(np.arange(0,len(output_2_7x7)),output_2_7x7,marker='.',lw=0.5,color='orange')\n",
    "ax.set_ylim([0,ymax])\n",
    "ax.tick_params(direction='in',size=12.5)\n",
    "ax.set_yticks([0,0.2,0.5,0.8,1.0])\n",
    "ax.set_xlabel('7x7 patterns',fontsize=14)\n",
    "ax.set_xticks([0,50,100])\n",
    "\n",
    "\n",
    "\n",
    "#=======\n",
    "ax=fig.add_subplot(133)\n",
    "\n",
    "ax.plot(np.arange(0,len(output_0_9x9)),output_0_9x9,marker='.',lw=0.5,color='royalblue')\n",
    "ax.plot(np.arange(0,len(output_1_9x9)),output_1_9x9,marker='.',lw=0.5,color='mediumseagreen')\n",
    "ax.plot(np.arange(0,len(output_2_9x9)),output_2_9x9,marker='.',lw=0.5,color='orange')\n",
    "ax.set_ylim([0,ymax])\n",
    "ax.tick_params(direction='in',size=12.5)\n",
    "ax.set_yticks([0,0.2,0.5,0.8,1.0])\n",
    "ax.set_xlabel('9x9 patterns',fontsize=14)\n",
    "ax.set_xticks([0,82,164])\n"
   ]
  },
  {
   "cell_type": "code",
   "execution_count": null,
   "metadata": {},
   "outputs": [],
   "source": []
  }
 ],
 "metadata": {
  "kernelspec": {
   "display_name": "Python 3",
   "language": "python",
   "name": "python3"
  },
  "language_info": {
   "codemirror_mode": {
    "name": "ipython",
    "version": 3
   },
   "file_extension": ".py",
   "mimetype": "text/x-python",
   "name": "python",
   "nbconvert_exporter": "python",
   "pygments_lexer": "ipython3",
   "version": "3.8.5"
  }
 },
 "nbformat": 4,
 "nbformat_minor": 4
}
