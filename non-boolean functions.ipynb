{
 "cells": [
  {
   "cell_type": "code",
   "execution_count": null,
   "metadata": {},
   "outputs": [],
   "source": [
    "# this file find weights for 5x5, 7x7, 9x9 non-binary patterns\n",
    "# chemical naming: AHL is the same as OC6, CHL is the same as OHC14"
   ]
  },
  {
   "cell_type": "code",
   "execution_count": 1,
   "metadata": {},
   "outputs": [],
   "source": [
    "from numpy.random import RandomState\n",
    "import numpy as np\n",
    "np.set_printoptions(precision=2,suppress=True)\n",
    "\n",
    "import matplotlib.pyplot as plt\n",
    "import scipy.optimize as opt\n",
    "from math import *\n",
    "\n",
    "from scipy.optimize import basinhopping,minimize,differential_evolution\n",
    "from scipy.stats import moment"
   ]
  },
  {
   "cell_type": "code",
   "execution_count": 2,
   "metadata": {},
   "outputs": [],
   "source": [
    "# basis functions, phi_pos, phi_neg\n",
    "def transf_pos(x,K=2.0,y0=0.001,ym=1.5,n=2):\n",
    "    result=ym*((x/K)**n)/(1+(x/K)**n)+ym*y0\n",
    "    return result\n",
    "\n",
    "def transf_neg(x,K=2.0,y0=0.001,ym=1.5,n=2):\n",
    "    result=ym/(1+(x/K)**n)+y0*ym\n",
    "    return result"
   ]
  },
  {
   "cell_type": "code",
   "execution_count": 3,
   "metadata": {},
   "outputs": [],
   "source": [
    "def noisy(vector):\n",
    "    result=[]\n",
    "    for i in range(0,len(vector)):\n",
    "        v=vector.copy()\n",
    "        v[i]=np.logical_not(vector[i]).astype(int)\n",
    "        #print(i,vector[i],v[i])\n",
    "        result.append(v)\n",
    "    return result"
   ]
  },
  {
   "cell_type": "code",
   "execution_count": 4,
   "metadata": {},
   "outputs": [],
   "source": [
    "def noisy(vector):\n",
    "    result=[]\n",
    "    for i in range(0,len(vector)):\n",
    "        v=vector.copy()\n",
    "        v[i]=np.logical_not(vector[i]).astype(int)\n",
    "        #print(i,vector[i],v[i])\n",
    "        result.append(v)\n",
    "    return result"
   ]
  },
  {
   "cell_type": "code",
   "execution_count": 5,
   "metadata": {},
   "outputs": [],
   "source": [
    "zv_5x5=[1,1,1,0,0,\\\n",
    "        0,0,1,0,0,\\\n",
    "        0,0,1,0,0,\\\n",
    "        0,0,1,0,0,\\\n",
    "        0,0,1,1,1]\n",
    "\n",
    "zv_7x7=[1,1,1,1,0,0,0,\\\n",
    "        0,0,0,1,0,0,0,\\\n",
    "        0,0,0,1,0,0,0,\\\n",
    "        0,0,0,1,0,0,0,\\\n",
    "        0,0,0,1,0,0,0,\\\n",
    "        0,0,0,1,0,0,0,\\\n",
    "        0,0,0,1,1,1,1]\n",
    "\n",
    "zv_9x9=[1,1,1,1,1,0,0,0,0,\\\n",
    "        0,0,0,0,1,0,0,0,0,\\\n",
    "        0,0,0,0,1,0,0,0,0,\\\n",
    "        0,0,0,0,1,0,0,0,0,\\\n",
    "        0,0,0,0,1,0,0,0,0,\\\n",
    "        0,0,0,0,1,0,0,0,0,\\\n",
    "        0,0,0,0,1,0,0,0,0,\\\n",
    "        0,0,0,0,1,0,0,0,0,\\\n",
    "        0,0,0,0,1,1,1,1,1]    "
   ]
  },
  {
   "cell_type": "code",
   "execution_count": 6,
   "metadata": {},
   "outputs": [],
   "source": [
    "vv_5x5=[1,0,0,0,1,\\\n",
    "        1,0,0,0,1,\\\n",
    "        1,0,0,0,1,\\\n",
    "        0,1,0,1,0,\\\n",
    "        0,0,1,0,0]\n",
    "\n",
    "vv_7x7=[1,0,0,0,0,0,1,\\\n",
    "        1,0,0,0,0,0,1,\\\n",
    "        1,0,0,0,0,0,1,\\\n",
    "        1,0,0,0,0,0,1,\\\n",
    "        0,1,0,0,0,1,0,\\\n",
    "        0,0,1,0,1,0,0,\\\n",
    "        0,0,0,1,0,0,0]\n",
    "\n",
    "vv_9x9=[1,0,0,0,0,0,0,0,1,\\\n",
    "        1,0,0,0,0,0,0,0,1,\\\n",
    "        1,0,0,0,0,0,0,0,1,\\\n",
    "        1,0,0,0,0,0,0,0,1,\\\n",
    "        1,0,0,0,0,0,0,0,1,\\\n",
    "        0,1,0,0,0,0,0,1,0,\\\n",
    "        0,0,1,0,0,0,1,0,0,\\\n",
    "        0,0,0,1,0,1,0,0,0,\\\n",
    "        0,0,0,0,1,0,0,0,0]    "
   ]
  },
  {
   "cell_type": "code",
   "execution_count": 7,
   "metadata": {},
   "outputs": [],
   "source": [
    "nv_5x5=[0,0,0,0,0,\\\n",
    "        0,1,1,1,0,\\\n",
    "        1,0,0,0,1,\\\n",
    "        1,0,0,0,1,\\\n",
    "        1,0,0,0,1]\n",
    "\n",
    "nv_7x7=[0,0,0,0,0,0,0,\\\n",
    "        0,0,0,0,0,0,0,\\\n",
    "        0,1,1,1,1,1,0,\\\n",
    "        1,0,0,0,0,0,1,\\\n",
    "        1,0,0,0,0,0,1,\\\n",
    "        1,0,0,0,0,0,1,\\\n",
    "        1,0,0,0,0,0,1]\n",
    "\n",
    "nv_9x9=[0,0,0,0,0,0,0,0,0,\\\n",
    "        0,0,0,0,0,0,0,0,0,\\\n",
    "        0,0,1,1,1,1,1,0,0,\\\n",
    "        0,1,0,0,0,0,0,1,0,\\\n",
    "        1,0,0,0,0,0,0,0,1,\\\n",
    "        1,0,0,0,0,0,0,0,1,\\\n",
    "        1,0,0,0,0,0,0,0,1,\\\n",
    "        1,0,0,0,0,0,0,0,1,\\\n",
    "        1,0,0,0,0,0,0,0,1]"
   ]
  },
  {
   "cell_type": "code",
   "execution_count": 8,
   "metadata": {},
   "outputs": [],
   "source": [
    "# 5x5\n",
    "zpatterns=([zv_5x5]+noisy(zv_5x5))\n",
    "vpatterns=([vv_5x5]+noisy(vv_5x5))\n",
    "npatterns=([nv_5x5]+noisy(nv_5x5))\n",
    "\n",
    "patterns_5x5=zpatterns+vpatterns+npatterns\n",
    "\n",
    "#--------\n",
    "# 7x7\n",
    "zpatterns=([zv_7x7]+noisy(zv_7x7))\n",
    "vpatterns=([vv_7x7]+noisy(vv_7x7))\n",
    "npatterns=([nv_7x7]+noisy(nv_7x7))\n",
    "\n",
    "patterns_7x7=zpatterns+vpatterns+npatterns\n",
    "\n",
    "#--------\n",
    "# 9x9\n",
    "zpatterns=([zv_9x9]+noisy(zv_9x9))\n",
    "vpatterns=([vv_9x9]+noisy(vv_9x9))\n",
    "npatterns=([nv_9x9]+noisy(nv_9x9))\n",
    "\n",
    "patterns_9x9=zpatterns+vpatterns+npatterns"
   ]
  },
  {
   "cell_type": "code",
   "execution_count": 34,
   "metadata": {},
   "outputs": [
    {
     "name": "stdout",
     "output_type": "stream",
     "text": [
      "rand_seq:  [0.65 0.83 0.4  0.58 0.49 0.46 0.51 0.61 0.64 0.72 0.65 0.81 0.52 0.93\n",
      " 0.42 0.8  0.65 0.74 0.48 0.52 0.88 0.98 0.59 0.82 0.93 0.94 0.45 0.42\n",
      " 0.5  0.93 0.46 0.65 0.97 0.72 0.82 0.59 0.81 0.9  0.41 0.85 0.99 0.85\n",
      " 0.57 0.87 0.46 0.67 0.95 0.58 0.57 0.48 0.41 0.81 0.53 0.56 0.69 0.43\n",
      " 0.74 0.49 0.75 0.82 0.46 0.65 0.82 0.65 0.43 0.72 0.8  0.71 0.97 0.75\n",
      " 0.94 0.48 0.48 0.88 0.64 0.5  0.96 0.61 0.85 0.84 0.93]\n",
      "[0.1  0.54]\n",
      "[985.63 279.36]\n"
     ]
    }
   ],
   "source": [
    "# define graded patterns modulated by random sequence\n",
    "# this is the only section that differs from the code for binary patterns\n",
    "# for 5x5 patters, size=25, patterns=patterns_5x5\n",
    "# for 7x7 patters, size=49, patterns=patterns_7x7\n",
    "# for 9x9 patters, size=81, patterns=patterns_9x9\n",
    "\n",
    "size=81\n",
    "patterns=patterns_9x9\n",
    "\n",
    "rnd_state=RandomState(1)\n",
    "rand_seq=0.6*rnd_state.random_sample(size)+0.4\n",
    "print('rand_seq: ',rand_seq)\n",
    "\n",
    "target_L=0.0\n",
    "target_H=1.2\n",
    "lenth=int(len(patterns)/3)\n",
    "\n",
    "target_0=np.array([target_H]*lenth+[target_L]*lenth+[target_L]*lenth)\n",
    "target_1=np.array([target_L]*lenth+[target_H]*lenth+[target_L]*lenth)\n",
    "target_2=np.array([target_L]*lenth+[target_L]*lenth+[target_H]*lenth)\n",
    "\n",
    "#==============\n",
    "AHL_unit_level=30   # 30x diuute\n",
    "transf_p=np.zeros(2)\n",
    "transf_n=np.zeros(2)\n",
    "\n",
    "transf_p[0]=transf_pos(x=0,K=50,y0=0.1,ym=1.0,n=0.45)\n",
    "transf_p[1]=transf_pos(x=AHL_unit_level,K=50,y0=0.1,ym=1.0,n=0.45)\n",
    "transf_n[0]=transf_neg(x=0,K=0.252,y0=0.341,ym=735,n=0.67)\n",
    "transf_n[1]=transf_neg(x=AHL_unit_level,K=0.252,y0=0.341,ym=735,n=0.67)\n",
    "  \n",
    "print(transf_p)\n",
    "print(transf_n)\n",
    "\n",
    "phi_pos=np.array([transf_p]*size)\n",
    "phi_neg=np.array([transf_n]*size)\n",
    "\n",
    "phi_pos_ct=np.zeros(shape=phi_pos.shape)\n",
    "phi_neg_ct=np.zeros(shape=phi_neg.shape)\n",
    "\n",
    "phi_pos_ct.T[0]=phi_pos.T[0]\n",
    "phi_pos_ct.T[1]=phi_pos.T[1]*rand_seq\n",
    "\n",
    "phi_neg_ct.T[0]=phi_neg.T[0]\n",
    "phi_neg_ct.T[1]=phi_neg.T[1]*(2-rand_seq)"
   ]
  },
  {
   "cell_type": "code",
   "execution_count": 35,
   "metadata": {},
   "outputs": [],
   "source": [
    "# same functions as for binary patterns\n",
    "def examine_output(w,P,phi_pos,phi_neg):\n",
    "    y_n=np.zeros(len(P))\n",
    "    w_ph_=np.zeros(len(P))\n",
    "    \n",
    "    for n in range(0,len(P)):\n",
    "        pttn=np.array(P[n])\n",
    "        \n",
    "        phi_nw=(1.0+w/np.sqrt(w**2))/2*output_fcn(pttn,phi_pos)+\\\n",
    "            (1.0-w/np.sqrt(w**2))/2*output_fcn(pttn,phi_neg)/w\n",
    "                \n",
    "        w_ph_[n]=np.dot(w,phi_nw)/len(w)\n",
    "        y_n[n]=activate(w_ph_[n])\n",
    "        \n",
    "    return y_n,w_ph_\n",
    "\n",
    "def output_fcn(pttn,fcn):\n",
    "    CHL_levels=np.zeros(len(pttn))\n",
    "    for i in range(0,len(pttn)):\n",
    "        CHL_levels[i]=fcn[i][pttn[i]]\n",
    "        \n",
    "    return CHL_levels\n",
    "\n",
    "def activate(x):\n",
    "    K,y0,ym_x,n= 1.10292919e+03,1.94584842e-02,2.15950963e+04,2.33038211e+00\n",
    "\n",
    "    result=transf_pos(x.sum(),K=K,y0=y0/1e4,ym=2.0,n=n).sum()\n",
    "    return result"
   ]
  },
  {
   "cell_type": "code",
   "execution_count": 36,
   "metadata": {},
   "outputs": [],
   "source": [
    "def train_step1_ct(target,size,eta,phi_pos,phi_neg):\n",
    "    rndstate=RandomState(2)\n",
    "    w=rndstate.random_sample(size)\n",
    "    r=size\n",
    "\n",
    "    w_series=[]\n",
    "    y_series=[]\n",
    "    delta_series=[]\n",
    "\n",
    "    for it in range(0,350):\n",
    "        y_n=np.zeros(len(patterns))\n",
    "        g_n=np.zeros(len(patterns))\n",
    "        delta_err=np.zeros(size)\n",
    "        phi_n=[]\n",
    "    \n",
    "        for n in range(0,len(patterns)):\n",
    "            pttn=np.array(patterns[n])\n",
    "            # consider pttn as indexes in vector x, 0 means x[0], 1 means x[1]\n",
    "        \n",
    "            phi_nw=(1.0+w/np.sqrt(w**2))/2*output_fcn(pttn,phi_pos)+\\\n",
    "                (1.0-w/np.sqrt(w**2))/2*output_fcn(pttn,phi_neg)/w\n",
    "\n",
    "            g_n[n]=np.dot(w,phi_nw)/r\n",
    "            y_n[n]=activate(g_n[n])            \n",
    "            \n",
    "            tmp=(y_n[n]-target[n])\n",
    "            tmp=min(target_H,tmp)\n",
    "            \n",
    "            phi_nw_pos=(1.0+w/np.sqrt(w**2))/2*output_fcn(pttn,phi_pos)    \n",
    "            \n",
    "            delta_err+=tmp*phi_nw_pos#/g_n[n]\n",
    "        \n",
    "        w=w-eta*delta_err \n",
    "        y_series.append(y_n)\n",
    "        w_series.append(w)\n",
    "        delta_series.append(delta_err)\n",
    "     \n",
    "    return w,y_series,w_series,delta_series"
   ]
  },
  {
   "cell_type": "code",
   "execution_count": 16,
   "metadata": {
    "scrolled": true
   },
   "outputs": [
    {
     "name": "stdout",
     "output_type": "stream",
     "text": [
      "5x5 non_binary, w0:  5470, 8353, 3651, 1362, 737, 793, 522, 4863, 235, 327, -0, 1414, 4999, 1437, 276, -7, 455, 7313, 744, 505, -8, 1447, 4914, 8173, 7502\n",
      "5x5 non_binary, w1:  6935, -8, 1023, 1768, 6078, 5604, 787, -1, 457, 9457, 7071, 1832, 671, 1860, 4356, 28, 8419, 61, 6023, 768, -10, 1872, 6239, -4, -11\n",
      "5x5 non_binary, w2:  -1, -2, 815, 1415, 836, 888, 4975, 4951, 6373, 466, 5670, 1468, 532, 1493, 3488, 8170, 582, 43, 843, 5053, 9014, 1504, -8, -5, 7620\n"
     ]
    }
   ],
   "source": [
    "# demo example, 5x5 non-binary patterns, AHL_unit_level=30\n",
    "# note eta values are varied for each weight vector\n",
    "# outputs are the same in Table S4, right columns\n",
    "\n",
    "w0_ct_5x5,y_ct_5x5_series0,_,_=train_step1_ct(target_0,size=5**2,eta=3.2, phi_pos=phi_pos_ct,phi_neg=phi_neg_ct)\n",
    "output_w0_ct_5x5_0,_=examine_output(w0_ct_5x5,patterns,phi_pos_ct,phi_neg_ct)\n",
    "w0_ct_5x5_=\", \".join(\"%.0f\" % f for f in w0_ct_5x5)\n",
    "print('5x5 non_binary, w0: ', w0_ct_5x5_)\n",
    "\n",
    "w1_ct_5x5,y_ct_5x5_series1,_,_=train_step1_ct(target_1,size=5**2,eta=4.0, phi_pos=phi_pos_ct,phi_neg=phi_neg_ct)\n",
    "output_w1_ct_5x5_0,_=examine_output(w1_ct_5x5,patterns,phi_pos_ct,phi_neg_ct)\n",
    "w1_ct_5x5_=\", \".join(\"%.0f\" % f for f in w1_ct_5x5)\n",
    "print('5x5 non_binary, w1: ', w1_ct_5x5_)\n",
    "\n",
    "w2_ct_5x5,y_ct_5x5_series2,_,_=train_step1_ct(target_2,size=5**2,eta=3.2, phi_pos=phi_pos_ct,phi_neg=phi_neg_ct)\n",
    "output_w2_ct_5x5_0,_=examine_output(w2_ct_5x5,patterns,phi_pos_ct,phi_neg_ct)\n",
    "w2_ct_5x5_=\", \".join(\"%.0f\" % f for f in w2_ct_5x5)\n",
    "print('5x5 non_binary, w2: ', w2_ct_5x5_)"
   ]
  },
  {
   "cell_type": "code",
   "execution_count": 37,
   "metadata": {},
   "outputs": [
    {
     "name": "stdout",
     "output_type": "stream",
     "text": [
      "9x9 non_binary, w0: 7588, 11954, 5157, 8013, 6543, 1785, 1792, 1803, 337, 71, 1808, 1825, 1793, 13439, 1781, 1824, 1808, 34, 818, 1792, -8, -0, 6853, -2, -2, 1839, 921, 1007, 796, 1837, 1786, 9134, 1843, 1815, -1, 489, -4, 1835, 1780, 1829, 14479, 1829, 1799, 1832, 17, 292, -6, 1800, 1799, 6386, 1781, 1824, 684, 623, 213, 1782, 5, 1789, 10721, 1826, 889, 1807, -5, 353, 1782, 1815, -0, 10019, -2, 1819, 1839, 854, 851, 1833, 1807, 1791, 11406, 8442, 12242, 12008, 11155\n",
      "9x9 non_binary, w1: 8267, -4, 1265, 678, 980, 1998, 2005, 2018, 9629, 11065, 2023, 2043, 2006, -3, 1993, 2042, 2023, 11266, 7033, 2006, -11, -2, -8, 136, -5, 2058, 6472, 6006, 1044, 2056, 1999, 447, 2062, 2031, 137, 8806, 10662, 2053, 1992, 2047, -5, 2047, 2013, 2050, 5817, 561, 14797, 2014, 2013, 1013, 1993, 2042, 7754, 878, 485, 1995, 11422, 2002, 122, 2044, 6648, 2023, 133, 619, 1995, 2032, 12328, 265, 15160, 2035, 2058, 1100, 1097, 2051, 2022, 2004, 12393, 590, -1, -2, -10\n",
      "9x9 non_binary, w2: -9, -3, 1166, 610, 896, 1860, 1867, 1878, 550, 310, 1883, 1902, 1868, -3, 1855, 1901, 1884, 277, 984, 1867, 12884, 14472, 6963, 11854, 13601, 1916, 1077, 1154, 6880, 1914, 1861, 391, 1920, 1891, 11850, 687, 9959, 1912, 1855, 1906, -1, 1906, 1874, 1908, 5430, 9530, -0, 1875, 1874, 928, 1855, 1901, 863, 7793, 9945, 1857, 250, 1864, 83, 1903, 1048, 1883, 11874, 9208, 1857, 1891, 99, 219, -8, 1895, 1916, 6571, 6589, 1910, 1882, 1866, -6, 526, -9, -1, 11295\n"
     ]
    }
   ],
   "source": [
    "# demo example, 9x9 non-binary patterns, AHL_unit_level=30\n",
    "# note eta values are varied for each weight vector\n",
    "# outputs are the same in Table S6, right columns\n",
    "# need to reset  size=81, patterns=patterns_9x9\n",
    "\n",
    "w0_ct_9x9,y_ct_9x9_series0,_,_=train_step1_ct(target_0,size=9**2,eta=1.5, phi_pos=phi_pos_ct,phi_neg=phi_neg_ct)\n",
    "output_w0_ct_9x9_0,_=examine_output(w0_ct_9x9,patterns,phi_pos_ct,phi_neg_ct)\n",
    "w0_ct_9x9_=\", \".join(\"%.0f\" % f for f in w0_ct_9x9)\n",
    "print('9x9 non_binary, w0:', w0_ct_9x9_)\n",
    "\n",
    "w1_ct_9x9,y_ct_9x9_series1,_,_=train_step1_ct(target_1,size=9**2,eta=1.5, phi_pos=phi_pos_ct,phi_neg=phi_neg_ct)\n",
    "output_w1_ct_9x9_0,_=examine_output(w1_ct_9x9,patterns,phi_pos_ct,phi_neg_ct)\n",
    "w1_ct_9x9_=\", \".join(\"%.0f\" % f for f in w1_ct_9x9)\n",
    "print('9x9 non_binary, w1:', w1_ct_9x9_)\n",
    "\n",
    "w2_ct_9x9,y_ct_9x9_series2,_,_=train_step1_ct(target_2,size=9**2,eta=1.5, phi_pos=phi_pos_ct,phi_neg=phi_neg_ct)\n",
    "output_w2_ct_9x9_0,_=examine_output(w2_ct_9x9,patterns,phi_pos_ct,phi_neg_ct)\n",
    "w2_ct_9x9_=\", \".join(\"%.0f\" % f for f in w2_ct_9x9)\n",
    "print('9x9 non_binary, w2:', w2_ct_9x9_)"
   ]
  },
  {
   "cell_type": "code",
   "execution_count": 72,
   "metadata": {},
   "outputs": [
    {
     "data": {
      "image/png": "[encoded data removed]",
      "text/plain": [
       "<Figure size 1044x288 with 3 Axes>"
      ]
     },
     "metadata": {
      "needs_background": "light"
     },
     "output_type": "display_data"
    }
   ],
   "source": [
    "# demo example, for Fig 6b\n",
    "\n",
    "ymax=1.2\n",
    "\n",
    "fig=plt.figure(figsize=(14.5,4))\n",
    "#=======\n",
    "ax=fig.add_subplot(131)\n",
    "\n",
    "line0,=ax.plot(np.arange(0,len(output_w0_ct_5x5_0)),output_w0_ct_5x5_0,marker='.',lw=0.5,color='royalblue',label='$\\\\vec{w_0}$')\n",
    "line1,=ax.plot(np.arange(0,len(output_w1_ct_5x5_0)),output_w1_ct_5x5_0,marker='.',lw=0.5,color='mediumseagreen',label='$\\\\vec{w_1}$')\n",
    "line2,=ax.plot(np.arange(0,len(output_w2_ct_5x5_0)),output_w2_ct_5x5_0,marker='.',lw=0.5,color='orange',label='$\\\\vec{w_2}$')\n",
    "ax.set_ylim([0,ymax])\n",
    "ax.tick_params(direction='in',size=12.5)\n",
    "ax.set_yticks([0,0.2,0.5,0.8,1.0])\n",
    "ax.set_xlabel('5x5 patterns',fontsize=14)\n",
    "ax.legend(loc='upper left',ncol=3,fontsize=13)\n",
    "ax.set_xticks([0,26,52])\n",
    "#=======\n",
    "ax=fig.add_subplot(132)\n",
    "\n",
    "ax.plot(np.arange(0,len(output_w0_ct_7x7_0)),output_w0_ct_7x7_0,marker='.',lw=0.5,color='royalblue')\n",
    "ax.plot(np.arange(0,len(output_w1_ct_7x7_0)),output_w1_ct_7x7_0,marker='.',lw=0.5,color='mediumseagreen')\n",
    "ax.plot(np.arange(0,len(output_w2_ct_7x7_0)),output_w2_ct_7x7_0,marker='.',lw=0.5,color='orange')\n",
    "ax.set_ylim([0,ymax])\n",
    "ax.tick_params(direction='in',size=12.5)\n",
    "ax.set_yticks([0,0.2,0.5,0.8,1.0])\n",
    "ax.set_xlabel('7x7 patterns',fontsize=14)\n",
    "ax.set_xticks([0,50,100])\n",
    "\n",
    "\n",
    "\n",
    "#=======\n",
    "ax=fig.add_subplot(133)\n",
    "\n",
    "ax.plot(np.arange(0,len(output_w0_ct_9x9_0)),output_w0_ct_9x9_0,marker='.',lw=0.5,color='royalblue')\n",
    "ax.plot(np.arange(0,len(output_w1_ct_9x9_0)),output_w1_ct_9x9_0,marker='.',lw=0.5,color='mediumseagreen')\n",
    "ax.plot(np.arange(0,len(output_w2_ct_9x9_0)),output_w2_ct_9x9_0,marker='.',lw=0.5,color='orange')\n",
    "ax.set_ylim([0,ymax])\n",
    "ax.tick_params(direction='in',size=12.5)\n",
    "ax.set_yticks([0,0.2,0.5,0.8,1.0])\n",
    "ax.set_xlabel('9x9 patterns',fontsize=14)\n",
    "ax.set_xticks([0,82,164])\n"
   ]
  }
 ],
 "metadata": {
  "kernelspec": {
   "display_name": "Python 3",
   "language": "python",
   "name": "python3"
  },
  "language_info": {
   "codemirror_mode": {
    "name": "ipython",
    "version": 3
   },
   "file_extension": ".py",
   "mimetype": "text/x-python",
   "name": "python",
   "nbconvert_exporter": "python",
   "pygments_lexer": "ipython3",
   "version": "3.8.5"
  }
 },
 "nbformat": 4,
 "nbformat_minor": 4
}
