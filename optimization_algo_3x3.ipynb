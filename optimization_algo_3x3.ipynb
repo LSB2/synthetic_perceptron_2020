{
 "cells": [
  {
   "cell_type": "code",
   "execution_count": 1,
   "metadata": {},
   "outputs": [],
   "source": [
    "# this file is to update weights of 3x3 patterns\n",
    "# chemical naming: AHL is the same as OC6, CHL is the same as OHC14"
   ]
  },
  {
   "cell_type": "code",
   "execution_count": 2,
   "metadata": {},
   "outputs": [],
   "source": [
    "from numpy.random import RandomState\n",
    "import numpy as np\n",
    "np.set_printoptions(precision=2,suppress=True)\n",
    "\n",
    "import matplotlib.pyplot as plt\n",
    "import scipy.optimize as opt\n",
    "from math import *\n",
    "\n",
    "from scipy.optimize import basinhopping,minimize,differential_evolution"
   ]
  },
  {
   "cell_type": "code",
   "execution_count": 3,
   "metadata": {},
   "outputs": [],
   "source": [
    "# define 3x3 patterns \n",
    "\n",
    "zv=[1,1,0,0,1,0,0,1,1]\n",
    "vv=[1,0,1,1,0,1,0,1,0]\n",
    "nv=[0,1,0,1,0,1,1,0,1]\n",
    "\n",
    "def noisy(vector):\n",
    "    result=[]\n",
    "    for i in range(0,len(vector)):\n",
    "        v=vector.copy()\n",
    "        v[i]=np.logical_not(vector[i]).astype(int)\n",
    "        #print(i,vector[i],v[i])\n",
    "        result.append(v)\n",
    "    return result\n",
    "\n",
    "zpatterns=([zv]+noisy(zv))\n",
    "vpatterns=([vv]+noisy(vv))\n",
    "npatterns=([nv]+noisy(nv))\n",
    "\n",
    "start=0\n",
    "end=10\n",
    "patterns=zpatterns[start:end]+vpatterns[start:end]+npatterns[start:end]\n",
    "patterns_complete=zpatterns+vpatterns+npatterns\n",
    "\n",
    "lenth=end-start"
   ]
  },
  {
   "cell_type": "code",
   "execution_count": 4,
   "metadata": {},
   "outputs": [],
   "source": [
    "# basis functions, phi_pos, phi_neg\n",
    "def transf_pos(x,K=2.0,y0=0.001,ym=1.5,n=2):\n",
    "    result=ym*((x/K)**n)/(1+(x/K)**n)+ym*y0\n",
    "    return result\n",
    "\n",
    "def transf_neg(x,K=2.0,y0=0.001,ym=1.5,n=2):\n",
    "    result=ym/(1+(x/K)**n)+y0*ym\n",
    "    return result"
   ]
  },
  {
   "cell_type": "code",
   "execution_count": 5,
   "metadata": {},
   "outputs": [],
   "source": [
    "# define global varaibles\n",
    "\n",
    "size=3*3\n",
    "target_L=0.0\n",
    "target_H=1.2\n",
    "patterns=patterns\n",
    "\n",
    "lenth=int(len(patterns)/3)\n",
    "\n",
    "# define three target vectors\n",
    "target_0=np.array([target_H]*lenth+[target_L]*lenth+[target_L]*lenth)\n",
    "target_1=np.array([target_L]*lenth+[target_H]*lenth+[target_L]*lenth)\n",
    "target_2=np.array([target_L]*lenth+[target_L]*lenth+[target_H]*lenth)\n",
    "\n",
    "target=target_0\n",
    "#----\n",
    "# used 33 uM as high AHL level, AHL is OC6\n",
    "AHL_unit_level=33 # uM \n",
    "transf_p=np.zeros(2)\n",
    "transf_n=np.zeros(2)\n",
    "\n",
    "# parameter numbers are approximated from values in Table 1\n",
    "# as explained in Supplementary Notes\n",
    "transf_p[0]=transf_pos(x=0,K=50,y0=0.1,ym=1.0,n=0.45)\n",
    "transf_p[1]=transf_pos(x=AHL_unit_level,K=50,y0=0.1,ym=1.0,n=0.45)\n",
    "transf_n[0]=transf_neg(x=0,K=0.252,y0=0.341,ym=735,n=0.67)\n",
    "transf_n[1]=transf_neg(x=AHL_unit_level,K=0.252,y0=0.341,ym=735,n=0.67)\n",
    "\n",
    "phi_pos=np.array([transf_p]*size)\n",
    "phi_neg=np.array([transf_n]*size)"
   ]
  },
  {
   "cell_type": "code",
   "execution_count": 6,
   "metadata": {},
   "outputs": [],
   "source": [
    "def examine_output(w,P,phi_pos,phi_neg):\n",
    "    y_n=np.zeros(len(P))\n",
    "    w_ph_=np.zeros(len(P))\n",
    "\n",
    "    for n in range(0,len(P)):\n",
    "        pttn=np.array(P[n])\n",
    "        \n",
    "        phi_nw=(1.0+w/np.sqrt(w**2))/2*output_fcn(pttn,phi_pos)+\\\n",
    "            (1.0-w/np.sqrt(w**2))/2*output_fcn(pttn,phi_neg)/w\n",
    "                \n",
    "        w_ph_[n]=np.dot(w,phi_nw)/len(w)\n",
    "        y_n[n]=activate(w_ph_[n])\n",
    "        \n",
    "    return y_n,w_ph_\n",
    "\n",
    "def output_fcn(pttn,fcn):\n",
    "    \n",
    "    # CHL is the same as OHC14\n",
    "    CHL_levels=np.zeros(len(pttn))\n",
    "    for i in range(0,len(pttn)):\n",
    "        CHL_levels[i]=fcn[i][pttn[i]]\n",
    "        \n",
    "    return CHL_levels\n",
    "\n",
    "def activate(x):\n",
    "    K,y0,ym_x,n= 1.10292919e+03,1.94584842e-02,2.15950963e+04,2.33038211e+00\n",
    "\n",
    "    result=transf_pos(x.sum(),K=K,y0=y0/1e4,ym=2.0,n=n).sum()\n",
    "    return result"
   ]
  },
  {
   "cell_type": "code",
   "execution_count": 10,
   "metadata": {},
   "outputs": [],
   "source": [
    "def train_step1(target,size,eta,phi_pos,phi_neg):\n",
    "    rndstate=RandomState(2)\n",
    "    w=rndstate.random_sample(size)\n",
    "    #print('w: ',w)\n",
    "    r=size\n",
    "\n",
    "    w_series=[]\n",
    "    y_series=[]\n",
    "    delta_series=[]\n",
    "\n",
    "    for it in range(0,350):\n",
    "        y_n=np.zeros(len(patterns))\n",
    "        g_n=np.zeros(len(patterns))\n",
    "        delta_err=np.zeros(size)\n",
    "        phi_n=[]\n",
    "    \n",
    "        for n in range(0,len(patterns)):\n",
    "            pttn=np.array(patterns[n])\n",
    "            # consider pttn as indexes in vector x, 0 means x[0], 1 means x[1]\n",
    "        \n",
    "            phi_nw=(1.0+w/np.sqrt(w**2))/2*output_fcn(pttn,phi_pos)+\\\n",
    "                (1.0-w/np.sqrt(w**2))/2*output_fcn(pttn,phi_neg)/w\n",
    "\n",
    "            g_n[n]=np.dot(w,phi_nw)/r\n",
    "            y_n[n]=activate(g_n[n])            \n",
    "            \n",
    "            tmp=(y_n[n]-target[n])\n",
    "            tmp=min(target_H,tmp)\n",
    "\n",
    "            phi_nw_pos=(1.0+w/np.sqrt(w**2))/2*output_fcn(pttn,phi_pos)                \n",
    "            delta_err+=tmp*phi_nw_pos\n",
    "        \n",
    "        w=w-eta*delta_err \n",
    "        y_series.append(y_n)\n",
    "        w_series.append(w)\n",
    "        delta_series.append(delta_err)\n",
    "    \n",
    "    return w,y_series,w_series,delta_series"
   ]
  },
  {
   "cell_type": "code",
   "execution_count": 15,
   "metadata": {},
   "outputs": [],
   "source": [
    "# step2\n",
    "# basinhopping method\n",
    "\n",
    "def step2(w0):\n",
    "    y=np.zeros(len(patterns))\n",
    "\n",
    "    for n in range(0,len(patterns)):\n",
    "        pttn=np.array(patterns[n])\n",
    "        phi_nw=(1.0+w0/np.sqrt(w0**2))/2*output_fcn(pttn,phi_pos)+\\\n",
    "            (1.0-w0/np.sqrt(w0**2))/2*output_fcn(pttn,phi_neg)/w0\n",
    "        y[n]=activate(np.dot(w0,phi_nw)/size)\n",
    "        \n",
    "    product=(2*y-target_H)*(2*target-target_H)\n",
    "    \n",
    "    return np.var(product)*10+(target_H**2-np.mean(product))"
   ]
  },
  {
   "cell_type": "code",
   "execution_count": 13,
   "metadata": {},
   "outputs": [
    {
     "name": "stdout",
     "output_type": "stream",
     "text": [
      "w0:  [2555.11 2554.8    69.66   -0.56 3053.52   -0.66   69.42 2555.29 2555.07]\n",
      "output0:  [0.93 0.78 0.78 0.93 0.84 0.75 0.84 0.93 0.78 0.78 0.24 0.12 0.39 0.24\n",
      " 0.33 0.42 0.33 0.25 0.12 0.39 0.24 0.39 0.12 0.25 0.33 0.42 0.33 0.24\n",
      " 0.39 0.12]\n",
      "w1:  [2555.08   -0.92 3053.58 2555.12   69.56 2555.02   69.39 2555.26   -0.66]\n",
      "output1:  [0.24 0.12 0.33 0.42 0.39 0.24 0.39 0.25 0.12 0.33 0.93 0.78 0.84 0.75\n",
      " 0.78 0.93 0.78 0.93 0.78 0.84 0.24 0.39 0.33 0.42 0.12 0.25 0.12 0.24\n",
      " 0.39 0.33]\n",
      "w2:  [  -0.59 2554.82   69.67 2555.17   69.59 2555.07 3053.37   -0.41 2555.08]\n",
      "output2:  [0.24 0.33 0.12 0.25 0.39 0.24 0.39 0.42 0.33 0.12 0.24 0.33 0.39 0.24\n",
      " 0.12 0.25 0.12 0.42 0.33 0.39 0.93 0.84 0.78 0.93 0.78 0.93 0.78 0.75\n",
      " 0.84 0.78]\n"
     ]
    }
   ],
   "source": [
    "# demo example of step1\n",
    "et=2.5\n",
    "w0,y_series0,w_series0,d0=train_step1(target_0,size=3**2,eta=et,phi_pos=phi_pos,phi_neg=phi_neg)\n",
    "output_0,_=examine_output(w0,patterns,phi_pos=phi_pos,phi_neg=phi_neg)\n",
    "print('w0: ', w0)\n",
    "print('output0: ', output_0)\n",
    "\n",
    "#---------\n",
    "w1,y_series1,w_series1,d1=train_step1(target_1,size=3**2,eta=et,phi_pos=phi_pos,phi_neg=phi_neg)\n",
    "output_1,_=examine_output(w1,patterns,phi_pos=phi_pos,phi_neg=phi_neg)\n",
    "print('w1: ', w1)\n",
    "print('output1: ', output_1)\n",
    "\n",
    "#---------\n",
    "w2,y_series2,w_series2,d2=train_step1(target_2,size=3**2,eta=et,phi_pos=phi_pos,phi_neg=phi_neg)\n",
    "output_2,_=examine_output(w2,patterns,phi_pos=phi_pos,phi_neg=phi_neg)\n",
    "print('w2: ', w2)\n",
    "print('output2: ', output_2)"
   ]
  },
  {
   "cell_type": "code",
   "execution_count": 17,
   "metadata": {},
   "outputs": [
    {
     "name": "stdout",
     "output_type": "stream",
     "text": [
      "True\n",
      "step2 w0:  1813.310, 1813.310, -0.039, -0.174, 2871.605, -2.780, -0.276, 1813.310, 1813.310\n"
     ]
    }
   ],
   "source": [
    "# demo example of step2, w0;\n",
    "# output is the same as in Table S3; \n",
    "# positive weights have exact same values; for negative weights, the exact values do not matter.\n",
    "\n",
    "w=w0\n",
    "target=target_0\n",
    "minimizer_kwargs = {\"method\": \"Nelder-Mead\"}\n",
    "res0=basinhopping(step2,w,minimizer_kwargs=minimizer_kwargs,niter=20)\n",
    "\n",
    "print(res0.lowest_optimization_result.success)\n",
    "w0_txt=\", \".join(\"%.3f\" % f for f in res0.x)\n",
    "print('step2 w0: ',w0_txt)"
   ]
  },
  {
   "cell_type": "code",
   "execution_count": 18,
   "metadata": {},
   "outputs": [
    {
     "name": "stdout",
     "output_type": "stream",
     "text": [
      "True\n",
      "step2 w1:  1813.310, -9.513, 2871.604, 1813.310, -0.591, 1813.310, -0.034, 1813.310, -1.052\n"
     ]
    }
   ],
   "source": [
    "# demo example of step2, w1\n",
    "\n",
    "w=w1\n",
    "target=target_1\n",
    "minimizer_kwargs = {\"method\": \"Nelder-Mead\"}\n",
    "res1=basinhopping(step2,w,minimizer_kwargs=minimizer_kwargs,niter=20)\n",
    "\n",
    "print(res1.lowest_optimization_result.success)\n",
    "w1_txt=\", \".join(\"%.3f\" % f for f in res1.x)\n",
    "print('step2 w1: ',w1_txt)"
   ]
  },
  {
   "cell_type": "code",
   "execution_count": 19,
   "metadata": {},
   "outputs": [
    {
     "name": "stdout",
     "output_type": "stream",
     "text": [
      "True\n",
      "step2 w1:  -0.238, 1813.310, -0.731, 1813.310, -0.281, 1813.310, 2871.605, -1.288, 1813.310\n"
     ]
    }
   ],
   "source": [
    "# demo example of step2, w2\n",
    "\n",
    "w=w2\n",
    "target=target_2\n",
    "minimizer_kwargs = {\"method\": \"Nelder-Mead\"}\n",
    "res2=basinhopping(step2,w,minimizer_kwargs=minimizer_kwargs,niter=20)\n",
    "\n",
    "print(res2.lowest_optimization_result.success)\n",
    "w2_txt=\", \".join(\"%.3f\" % f for f in res2.x)\n",
    "print('step2 w1: ',w2_txt)"
   ]
  },
  {
   "cell_type": "code",
   "execution_count": null,
   "metadata": {},
   "outputs": [],
   "source": []
  }
 ],
 "metadata": {
  "kernelspec": {
   "display_name": "Python 3",
   "language": "python",
   "name": "python3"
  },
  "language_info": {
   "codemirror_mode": {
    "name": "ipython",
    "version": 3
   },
   "file_extension": ".py",
   "mimetype": "text/x-python",
   "name": "python",
   "nbconvert_exporter": "python",
   "pygments_lexer": "ipython3",
   "version": "3.8.5"
  }
 },
 "nbformat": 4,
 "nbformat_minor": 4
}
