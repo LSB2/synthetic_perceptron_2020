{
 "cells": [
  {
   "cell_type": "code",
   "execution_count": 1,
   "metadata": {},
   "outputs": [],
   "source": [
    "import pandas as pd\n",
    "import numpy as np\n",
    "import matplotlib.pyplot as plt\n",
    "from math import *\n",
    "import FlowCal as FC\n",
    "from scipy.optimize import curve_fit\n",
    "from scipy import stats\n",
    "import seaborn as sns"
   ]
  },
  {
   "cell_type": "code",
   "execution_count": 2,
   "metadata": {},
   "outputs": [],
   "source": [
    "def channel_median(facsdata_list,channel,flip_tag=True):\n",
    "    channel_median=[]\n",
    "    \n",
    "    if flip_tag==True:\n",
    "        for i in np.flip(np.arange(len(facsdata_list))):\n",
    "            channel_median.append(np.median(facsdata_list[i][:,channel]))\n",
    "    \n",
    "    else:\n",
    "        for i in np.arange(0,len(facsdata_list)):\n",
    "            channel_median.append(np.median(facsdata_list[i][:,channel]))\n",
    "        \n",
    "    return np.array(channel_median)\n"
   ]
  },
  {
   "cell_type": "code",
   "execution_count": 3,
   "metadata": {},
   "outputs": [],
   "source": [
    "path_0607='Exp_20200607_1/'\n",
    "path_0613='Exp_20200613_1/'"
   ]
  },
  {
   "cell_type": "code",
   "execution_count": 4,
   "metadata": {},
   "outputs": [],
   "source": [
    "gatefrac=0.8\n",
    "\n",
    "# A3-A12\n",
    "R_0607A_gated=[]\n",
    "for i in range(3,13):\n",
    "    tmp=FC.io.FCSData(path_0607+'05-Well-A'+str(i)+'.fcs')\n",
    "    tmp_gated=FC.gate.density2d(tmp,channels=['FSC-A','SSC-A'],bins=1000,gate_fraction=gatefrac)\n",
    "    R_0607A_gated.append(tmp_gated)"
   ]
  },
  {
   "cell_type": "code",
   "execution_count": 5,
   "metadata": {},
   "outputs": [],
   "source": [
    "# processing flowcytometry raw data using density gating\n",
    "gatefrac=0.8\n",
    "\n",
    "# 04-Well A3-A12\n",
    "R_0613A_gated=[]\n",
    "for i in range(3,13):\n",
    "    tmp=FC.io.FCSData(path_0613+'04-Well-A'+str(i)+'.fcs')\n",
    "    tmp_gated=FC.gate.density2d(tmp,channels=['FSC-A','SSC-A'],bins=1000,gate_fraction=gatefrac)\n",
    "    R_0613A_gated.append(tmp_gated)\n",
    "    \n",
    "    \n",
    "# 04-Well B3-B12\n",
    "R_0613B_gated=[]\n",
    "for i in range(3,13):\n",
    "    tmp=FC.io.FCSData(path_0613+'04-Well-B'+str(i)+'.fcs')\n",
    "    tmp_gated=FC.gate.density2d(tmp,channels=['FSC-A','SSC-A'],bins=1000,gate_fraction=gatefrac)\n",
    "    R_0613B_gated.append(tmp_gated)\n"
   ]
  },
  {
   "cell_type": "code",
   "execution_count": 10,
   "metadata": {
    "scrolled": true
   },
   "outputs": [],
   "source": [
    "R_0607A_gfp=[]\n",
    "for i in range(0,len(R_0607A_gated)):\n",
    "    data=R_0607A_gated[i][:,'FL1-A']\n",
    "    ind=np.where(data>0)    \n",
    "    R_0607A_gfp.append(data[ind])\n",
    "R_0607A_gfp=np.array(R_0607A_gfp,dtype=object)\n",
    "\n",
    "\n",
    "#------\n",
    "R_0613A_gfp=[]\n",
    "for i in range(0,len(R_0613A_gated)):\n",
    "    data=R_0613A_gated[i][:,'FL1-A']\n",
    "    ind=np.where(data>0)    \n",
    "    R_0613A_gfp.append(data[ind])\n",
    "R_0613A_gfp=np.array(R_0613A_gfp,dtype=object)\n",
    "\n",
    "#------\n",
    "R_0613B_gfp=[]\n",
    "for i in range(0,len(R_0613B_gated)):\n",
    "    data=R_0613B_gated[i][:,'FL1-A']\n",
    "    ind=np.where(data>0)    \n",
    "    R_0613B_gfp.append(data[ind])\n",
    "R_0613B_gfp=np.array(R_0613B_gfp,dtype=object)"
   ]
  },
  {
   "cell_type": "code",
   "execution_count": 11,
   "metadata": {},
   "outputs": [],
   "source": [
    "data_median=np.array([channel_median(R_0607A_gated,'FL1-A'),\\\n",
    "             channel_median(R_0613A_gated,'FL1-A'),\\\n",
    "             channel_median(R_0613B_gated,'FL1-A'),\\\n",
    "            ])\n",
    "data_mean=np.mean(np.array(data_median),axis=0)\n",
    "data_std=np.std(np.array(data_median),axis=0)\n",
    "data_sem=stats.sem(np.array(data_median),axis=0)\n",
    "\n",
    "bfp_median=np.array([channel_median(R_0607A_gated,'FL5-A'),\\\n",
    "             channel_median(R_0613A_gated,'FL5-A'),\\\n",
    "             channel_median(R_0613B_gated,'FL5-A'),\\\n",
    "            ])\n",
    "bfp_mean=np.mean(np.array(bfp_median),axis=0)\n",
    "bfp_std=np.std(np.array(bfp_median),axis=0)\n",
    "bfp_sem=stats.sem(np.array(bfp_median),axis=0)"
   ]
  },
  {
   "cell_type": "code",
   "execution_count": 13,
   "metadata": {},
   "outputs": [
    {
     "data": {
      "text/plain": [
       "[]"
      ]
     },
     "execution_count": 13,
     "metadata": {},
     "output_type": "execute_result"
    },
    {
     "data": {
      "image/png": "[encoded data removed]",
      "text/plain": [
       "<Figure size 540x288 with 1 Axes>"
      ]
     },
     "metadata": {
      "needs_background": "light"
     },
     "output_type": "display_data"
    },
    {
     "data": {
      "image/png": "[encoded data removed]",
      "text/plain": [
       "<Figure size 396x216 with 1 Axes>"
      ]
     },
     "metadata": {
      "needs_background": "light"
     },
     "output_type": "display_data"
    }
   ],
   "source": [
    "#labels=['$\\\\vec{w_0}\\\\cdot\\\\vec{p_0}$']\n",
    "\n",
    "labels=[]\n",
    "p_indx=[0,1,3,5,10,11,12,13,15,17]\n",
    "for i in range(0,len(p_indx)):\n",
    "    #labels.append('$\\\\vec{w_0}\\\\cdot\\\\vec{p'+str(p_indx[i])+'}$')\n",
    "    labels.append('$\\\\vec{w_0}\\\\cdot\\\\vec{p_{'+str(p_indx[i])+'}}$')\n",
    "x=np.arange(10)*1.5\n",
    "\n",
    "fig, ax = plt.subplots(figsize=(7.5,4))\n",
    "rect = ax.bar(x, data_mean, width=0.8,yerr=data_sem,color='mediumseagreen',ecolor='grey')\n",
    "ax.set_xticks(x+0.1)\n",
    "ax.yaxis.tick_right()\n",
    "ax.set_xticklabels(labels,size=10)\n",
    "ax.set_yticks([1.5e4, 1e4, 5e3, 2e3])\n",
    "#--------\n",
    "ax.set_ylabel('EYFP level (a.u.)',fontsize=12.5)\n",
    "ax.set_xlabel('3x3 patterns',fontsize=12.5)\n",
    "ax.tick_params(direction='in')\n",
    "\n",
    "#plt.savefig('3x3-R.png',dpi=400)\n",
    "#=========\n",
    "\n",
    "fig, ax = plt.subplots(figsize=(5.5,3))\n",
    "#ax1=ax.twinx()\n",
    "\n",
    "rect=ax.bar(x,bfp_mean,width=0.7,yerr=bfp_sem,color='royalblue',ecolor='grey',alpha=0.6)\n",
    "ax.set_title('BFP level (a.u.)',fontsize=12.5)\n",
    "ax.set_yticks([2.5e4, 2e4, 1.5e4])\n",
    "ax.set_xticks([])\n",
    "#ax.yaxis.tick_right()\n",
    "\n",
    "#plt.savefig('3x3-BFP.png',dpi=400)"
   ]
  },
  {
   "cell_type": "code",
   "execution_count": null,
   "metadata": {},
   "outputs": [],
   "source": []
  }
 ],
 "metadata": {
  "kernelspec": {
   "display_name": "Python 3",
   "language": "python",
   "name": "python3"
  },
  "language_info": {
   "codemirror_mode": {
    "name": "ipython",
    "version": 3
   },
   "file_extension": ".py",
   "mimetype": "text/x-python",
   "name": "python",
   "nbconvert_exporter": "python",
   "pygments_lexer": "ipython3",
   "version": "3.8.6"
  }
 },
 "nbformat": 4,
 "nbformat_minor": 4
}
