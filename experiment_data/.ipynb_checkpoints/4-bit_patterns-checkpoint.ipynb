{
 "cells": [
  {
   "cell_type": "code",
   "execution_count": 3,
   "metadata": {},
   "outputs": [],
   "source": [
    "import pandas as pd\n",
    "import numpy as np\n",
    "import matplotlib.pyplot as plt\n",
    "from math import *\n",
    "import FlowCal as FC\n",
    "from scipy.optimize import curve_fit\n",
    "from scipy import stats\n",
    "import seaborn as sns"
   ]
  },
  {
   "cell_type": "code",
   "execution_count": 4,
   "metadata": {},
   "outputs": [],
   "source": [
    "def channel_median(facsdata_list,channel,flip_tag=True):\n",
    "    channel_median=[]\n",
    "    \n",
    "    if flip_tag==True:\n",
    "        for i in np.flip(np.arange(len(facsdata_list))):\n",
    "            channel_median.append(np.median(facsdata_list[i][:,channel]))\n",
    "    \n",
    "    else:\n",
    "        for i in np.arange(0,len(facsdata_list)):\n",
    "            channel_median.append(np.median(facsdata_list[i][:,channel]))\n",
    "        \n",
    "    return np.array(channel_median)\n",
    "\n"
   ]
  },
  {
   "cell_type": "code",
   "execution_count": 5,
   "metadata": {},
   "outputs": [],
   "source": [
    "path_0621='Exp_20200621_1/'\n",
    "path_0623='Exp_20200623_1/'\n",
    "path_0624='Exp_20200624_1/'"
   ]
  },
  {
   "cell_type": "code",
   "execution_count": 6,
   "metadata": {},
   "outputs": [],
   "source": [
    "# processing flowcytometry raw data by density gating\n",
    "\n",
    "gatefrac=0.8\n",
    "\n",
    "G_0624_gated=[]\n",
    "for i in range(0,12):\n",
    "    tmp=FC.io.FCSData(path_0624+'03-Well-G'+str(i+1)+'.fcs')\n",
    "    tmp_gated=FC.gate.density2d(tmp,channels=['FSC-A','SSC-A'],bins=1000,gate_fraction=gatefrac)\n",
    "    G_0624_gated.append(tmp_gated)"
   ]
  },
  {
   "cell_type": "code",
   "execution_count": 7,
   "metadata": {},
   "outputs": [],
   "source": [
    "gatefrac=0.8\n",
    "\n",
    "F_0623_gated=[]\n",
    "for i in range(0,12):\n",
    "    tmp=FC.io.FCSData(path_0623+'02-Well-F'+str(i+1)+'.fcs')\n",
    "    tmp_gated=FC.gate.density2d(tmp,channels=['FSC-A','SSC-A'],bins=1000,gate_fraction=gatefrac)\n",
    "    F_0623_gated.append(tmp_gated)"
   ]
  },
  {
   "cell_type": "code",
   "execution_count": 8,
   "metadata": {},
   "outputs": [],
   "source": [
    "gatefrac=0.8\n",
    "\n",
    "B_0621_gated=[]\n",
    "for i in range(0,12):\n",
    "    tmp=FC.io.FCSData(path_0621+'04-Well-B'+str(i+1)+'.fcs')\n",
    "    tmp_gated=FC.gate.density2d(tmp,channels=['FSC-A','SSC-A'],bins=1000,gate_fraction=gatefrac)\n",
    "    B_0621_gated.append(tmp_gated)"
   ]
  },
  {
   "cell_type": "code",
   "execution_count": 10,
   "metadata": {},
   "outputs": [],
   "source": [
    "data_median=np.array([channel_median(B_0621_gated,'FL1-A'),\\\n",
    "             channel_median(F_0623_gated,'FL1-A'),\\\n",
    "             channel_median(G_0624_gated,'FL1-A')\n",
    "            ])\n",
    "data_mean=np.mean(data_median.T,axis=1)\n",
    "data_std=np.std(np.array(data_median),axis=0)\n",
    "data_sem=stats.sem(np.array(data_median),axis=0)\n",
    "\n",
    "bfp_median=np.array([channel_median(B_0621_gated,'FL5-A'),\\\n",
    "             channel_median(F_0623_gated,'FL5-A'),\\\n",
    "             channel_median(G_0624_gated,'FL5-A')        \n",
    "            ])\n",
    "bfp_mean=np.mean(bfp_median.T,axis=1)\n",
    "bfp_std=np.std(np.array(bfp_median),axis=0)\n",
    "bfp_sem=stats.sem(np.array(bfp_median),axis=0)"
   ]
  },
  {
   "cell_type": "code",
   "execution_count": 11,
   "metadata": {},
   "outputs": [
    {
     "data": {
      "image/png": "[encoded data removed]",
      "text/plain": [
       "<Figure size 540x288 with 1 Axes>"
      ]
     },
     "metadata": {
      "needs_background": "light"
     },
     "output_type": "display_data"
    }
   ],
   "source": [
    "# generate figure as shown in Fig3c\n",
    "labels=[]\n",
    "for i in range(0,12):\n",
    "    labels.append('p'+str(i))\n",
    "x=np.arange(12)\n",
    "width=0.4\n",
    "\n",
    "fig=plt.figure(figsize=(7.5,4))\n",
    "\n",
    "ax1 = fig.add_subplot(111)\n",
    "rect1 = ax1.bar(x, np.flip(data_mean), width=0.8,yerr=np.flip(data_sem),ecolor='grey',color='mediumseagreen')\n",
    "ax1.set_ylim([0,18000])\n",
    "ax1.yaxis.tick_right()\n",
    "ax1.set_xticks(x)\n",
    "ax1.set_xticklabels(labels)\n",
    "ax1.set_yticks([2000,8000,12000,16000])\n",
    "\n",
    "#-----\n",
    "ax1.set_ylabel('EYFP level (a.u)',fontsize=13)\n",
    "ax1.set_xlabel('4-bit patterns',fontsize=13)\n",
    "ax1.tick_params(direction='in',size=11)\n",
    "\n",
    "\n",
    "#plt.savefig('4-bit-R.png',dpi=400)"
   ]
  },
  {
   "cell_type": "code",
   "execution_count": 12,
   "metadata": {},
   "outputs": [
    {
     "data": {
      "image/png": "[encoded data removed]",
      "text/plain": [
       "<Figure size 432x288 with 1 Axes>"
      ]
     },
     "metadata": {
      "needs_background": "light"
     },
     "output_type": "display_data"
    }
   ],
   "source": [
    "# generate figure as shown in Fig3c\n",
    "\n",
    "labels=[]\n",
    "for i in range(0,12):\n",
    "    labels.append('p'+str(i))\n",
    "x=np.arange(12)\n",
    "width=0.5\n",
    "fig, ax = plt.subplots()\n",
    "rect = ax.bar(x, np.flip(bfp_mean), width,yerr=np.flip(bfp_sem),color='royalblue',ecolor='grey',alpha=0.6)\n",
    "#ax.set_xticks(x)\n",
    "#ax.set_xticklabels(labels)\n",
    "ax.set_title('BFP level (a.u.)',fontsize=12.5)\n",
    "ax.set_yticks([3e4,2.5e4, 2e4, 1.5e4])\n",
    "ax.set_xticks([])\n",
    "#--------\n",
    "ax.set_title('BFP level (a.u)',fontsize=12.5)\n",
    "#ax.set_xlabel('4-bit patterns',fontsize=12.5)\n",
    "ax.tick_params(direction='in')\n",
    "\n",
    "plt.savefig('4-bit-BFP.png',dpi=300)"
   ]
  },
  {
   "cell_type": "code",
   "execution_count": null,
   "metadata": {},
   "outputs": [],
   "source": []
  }
 ],
 "metadata": {
  "kernelspec": {
   "display_name": "Python 3",
   "language": "python",
   "name": "python3"
  },
  "language_info": {
   "codemirror_mode": {
    "name": "ipython",
    "version": 3
   },
   "file_extension": ".py",
   "mimetype": "text/x-python",
   "name": "python",
   "nbconvert_exporter": "python",
   "pygments_lexer": "ipython3",
   "version": "3.8.5"
  }
 },
 "nbformat": 4,
 "nbformat_minor": 4
}
